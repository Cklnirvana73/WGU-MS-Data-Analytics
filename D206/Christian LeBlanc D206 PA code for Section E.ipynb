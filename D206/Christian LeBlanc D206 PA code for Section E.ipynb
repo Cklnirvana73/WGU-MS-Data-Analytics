{
 "cells": [
  {
   "cell_type": "code",
   "execution_count": 12,
   "id": "75fa371c",
   "metadata": {},
   "outputs": [],
   "source": [
    "#Importing necessary libraries/packages\n",
    "import pandas as pd\n",
    "import numpy as np\n",
    "import matplotlib.pyplot as plt\n",
    "from sklearn.decomposition import PCA\n",
    "import seaborn as sns"
   ]
  },
  {
   "cell_type": "code",
   "execution_count": 13,
   "id": "e300f620",
   "metadata": {},
   "outputs": [],
   "source": [
    "# Grabbing the clean data from the csv file and telling Pandas that the data already contains an index column.\n",
    "cd = pd.read_csv(\"C:/Users/cklni/Desktop/WGU/D206/clean_churn.csv\", index_col= [0])"
   ]
  },
  {
   "cell_type": "code",
   "execution_count": 14,
   "id": "4046917b",
   "metadata": {},
   "outputs": [],
   "source": [
    "#Storing variables for PCA in a new data frame\n",
    "cd_pca = cd[[\"latitude\", \"longitude\", \"population\", \"children\", \"age\", \"income\", \"email_sent\", \"tech_support_contact\", \"yearly_equip_failure\", \"tenure\", \"monthly_charge\", \"bandwidth_gb_year\"]]"
   ]
  },
  {
   "cell_type": "code",
   "execution_count": 15,
   "id": "2f59bd76",
   "metadata": {},
   "outputs": [],
   "source": [
    "#Normalizing the data by dividing the mean and standard deviation for each variable\n",
    "cd_pca_normalized = (cd_pca-cd_pca.mean())/cd_pca.std()"
   ]
  },
  {
   "cell_type": "code",
   "execution_count": 16,
   "id": "305d0b09",
   "metadata": {},
   "outputs": [],
   "source": [
    "#Setting size of the PCA in terms of number of input components\n",
    "pca = PCA(n_components=cd_pca.shape[1])"
   ]
  },
  {
   "cell_type": "code",
   "execution_count": 17,
   "id": "f8fc79f0",
   "metadata": {},
   "outputs": [
    {
     "data": {
      "text/html": [
       "<style>#sk-container-id-2 {color: black;}#sk-container-id-2 pre{padding: 0;}#sk-container-id-2 div.sk-toggleable {background-color: white;}#sk-container-id-2 label.sk-toggleable__label {cursor: pointer;display: block;width: 100%;margin-bottom: 0;padding: 0.3em;box-sizing: border-box;text-align: center;}#sk-container-id-2 label.sk-toggleable__label-arrow:before {content: \"▸\";float: left;margin-right: 0.25em;color: #696969;}#sk-container-id-2 label.sk-toggleable__label-arrow:hover:before {color: black;}#sk-container-id-2 div.sk-estimator:hover label.sk-toggleable__label-arrow:before {color: black;}#sk-container-id-2 div.sk-toggleable__content {max-height: 0;max-width: 0;overflow: hidden;text-align: left;background-color: #f0f8ff;}#sk-container-id-2 div.sk-toggleable__content pre {margin: 0.2em;color: black;border-radius: 0.25em;background-color: #f0f8ff;}#sk-container-id-2 input.sk-toggleable__control:checked~div.sk-toggleable__content {max-height: 200px;max-width: 100%;overflow: auto;}#sk-container-id-2 input.sk-toggleable__control:checked~label.sk-toggleable__label-arrow:before {content: \"▾\";}#sk-container-id-2 div.sk-estimator input.sk-toggleable__control:checked~label.sk-toggleable__label {background-color: #d4ebff;}#sk-container-id-2 div.sk-label input.sk-toggleable__control:checked~label.sk-toggleable__label {background-color: #d4ebff;}#sk-container-id-2 input.sk-hidden--visually {border: 0;clip: rect(1px 1px 1px 1px);clip: rect(1px, 1px, 1px, 1px);height: 1px;margin: -1px;overflow: hidden;padding: 0;position: absolute;width: 1px;}#sk-container-id-2 div.sk-estimator {font-family: monospace;background-color: #f0f8ff;border: 1px dotted black;border-radius: 0.25em;box-sizing: border-box;margin-bottom: 0.5em;}#sk-container-id-2 div.sk-estimator:hover {background-color: #d4ebff;}#sk-container-id-2 div.sk-parallel-item::after {content: \"\";width: 100%;border-bottom: 1px solid gray;flex-grow: 1;}#sk-container-id-2 div.sk-label:hover label.sk-toggleable__label {background-color: #d4ebff;}#sk-container-id-2 div.sk-serial::before {content: \"\";position: absolute;border-left: 1px solid gray;box-sizing: border-box;top: 0;bottom: 0;left: 50%;z-index: 0;}#sk-container-id-2 div.sk-serial {display: flex;flex-direction: column;align-items: center;background-color: white;padding-right: 0.2em;padding-left: 0.2em;position: relative;}#sk-container-id-2 div.sk-item {position: relative;z-index: 1;}#sk-container-id-2 div.sk-parallel {display: flex;align-items: stretch;justify-content: center;background-color: white;position: relative;}#sk-container-id-2 div.sk-item::before, #sk-container-id-2 div.sk-parallel-item::before {content: \"\";position: absolute;border-left: 1px solid gray;box-sizing: border-box;top: 0;bottom: 0;left: 50%;z-index: -1;}#sk-container-id-2 div.sk-parallel-item {display: flex;flex-direction: column;z-index: 1;position: relative;background-color: white;}#sk-container-id-2 div.sk-parallel-item:first-child::after {align-self: flex-end;width: 50%;}#sk-container-id-2 div.sk-parallel-item:last-child::after {align-self: flex-start;width: 50%;}#sk-container-id-2 div.sk-parallel-item:only-child::after {width: 0;}#sk-container-id-2 div.sk-dashed-wrapped {border: 1px dashed gray;margin: 0 0.4em 0.5em 0.4em;box-sizing: border-box;padding-bottom: 0.4em;background-color: white;}#sk-container-id-2 div.sk-label label {font-family: monospace;font-weight: bold;display: inline-block;line-height: 1.2em;}#sk-container-id-2 div.sk-label-container {text-align: center;}#sk-container-id-2 div.sk-container {/* jupyter's `normalize.less` sets `[hidden] { display: none; }` but bootstrap.min.css set `[hidden] { display: none !important; }` so we also need the `!important` here to be able to override the default hidden behavior on the sphinx rendered scikit-learn.org. See: https://github.com/scikit-learn/scikit-learn/issues/21755 */display: inline-block !important;position: relative;}#sk-container-id-2 div.sk-text-repr-fallback {display: none;}</style><div id=\"sk-container-id-2\" class=\"sk-top-container\"><div class=\"sk-text-repr-fallback\"><pre>PCA(n_components=12)</pre><b>In a Jupyter environment, please rerun this cell to show the HTML representation or trust the notebook. <br />On GitHub, the HTML representation is unable to render, please try loading this page with nbviewer.org.</b></div><div class=\"sk-container\" hidden><div class=\"sk-item\"><div class=\"sk-estimator sk-toggleable\"><input class=\"sk-toggleable__control sk-hidden--visually\" id=\"sk-estimator-id-2\" type=\"checkbox\" checked><label for=\"sk-estimator-id-2\" class=\"sk-toggleable__label sk-toggleable__label-arrow\">PCA</label><div class=\"sk-toggleable__content\"><pre>PCA(n_components=12)</pre></div></div></div></div></div>"
      ],
      "text/plain": [
       "PCA(n_components=12)"
      ]
     },
     "execution_count": 17,
     "metadata": {},
     "output_type": "execute_result"
    }
   ],
   "source": [
    "#Normalizing fit\n",
    "pca.fit(cd_pca_normalized)"
   ]
  },
  {
   "cell_type": "code",
   "execution_count": 18,
   "id": "8f2a8ee9",
   "metadata": {},
   "outputs": [],
   "source": [
    "#Labling the columns in the dataframe \n",
    "cd_pca_df = pd.DataFrame(pca.transform(cd_pca_normalized)),\n",
    "columns= [\"PC1\",\"PC2\",\"PC3\",\"PC4\",\"PC5\",\"PC6\",\"PC7\",\"PC8\",\"PC9\",\"PC10\",\"PC11\",\"PC12\"]"
   ]
  },
  {
   "cell_type": "code",
   "execution_count": 19,
   "id": "ea97d3ad",
   "metadata": {},
   "outputs": [],
   "source": [
    "cd_pca_loadings = pd.DataFrame(pca.components_.T, \n",
    "                              columns= [\"PC1\",\"PC2\",\"PC3\",\"PC4\",\"PC5\",\"PC6\",\"PC7\",\"PC8\",\"PC9\",\"PC10\",\"PC11\",\"PC12\"],\n",
    "                              index = cd_pca_normalized.columns)"
   ]
  },
  {
   "cell_type": "code",
   "execution_count": 20,
   "id": "1924b25a",
   "metadata": {},
   "outputs": [
    {
     "data": {
      "text/html": [
       "<div>\n",
       "<style scoped>\n",
       "    .dataframe tbody tr th:only-of-type {\n",
       "        vertical-align: middle;\n",
       "    }\n",
       "\n",
       "    .dataframe tbody tr th {\n",
       "        vertical-align: top;\n",
       "    }\n",
       "\n",
       "    .dataframe thead th {\n",
       "        text-align: right;\n",
       "    }\n",
       "</style>\n",
       "<table border=\"1\" class=\"dataframe\">\n",
       "  <thead>\n",
       "    <tr style=\"text-align: right;\">\n",
       "      <th></th>\n",
       "      <th>PC1</th>\n",
       "      <th>PC2</th>\n",
       "      <th>PC3</th>\n",
       "      <th>PC4</th>\n",
       "      <th>PC5</th>\n",
       "      <th>PC6</th>\n",
       "      <th>PC7</th>\n",
       "      <th>PC8</th>\n",
       "      <th>PC9</th>\n",
       "      <th>PC10</th>\n",
       "      <th>PC11</th>\n",
       "      <th>PC12</th>\n",
       "    </tr>\n",
       "  </thead>\n",
       "  <tbody>\n",
       "    <tr>\n",
       "      <th>latitude</th>\n",
       "      <td>-0.023646</td>\n",
       "      <td>-0.715312</td>\n",
       "      <td>0.125143</td>\n",
       "      <td>-0.002445</td>\n",
       "      <td>-0.076150</td>\n",
       "      <td>0.000993</td>\n",
       "      <td>-0.011501</td>\n",
       "      <td>0.067094</td>\n",
       "      <td>0.062221</td>\n",
       "      <td>-0.021249</td>\n",
       "      <td>0.676273</td>\n",
       "      <td>-0.000987</td>\n",
       "    </tr>\n",
       "    <tr>\n",
       "      <th>longitude</th>\n",
       "      <td>0.008009</td>\n",
       "      <td>0.175241</td>\n",
       "      <td>-0.734172</td>\n",
       "      <td>-0.358744</td>\n",
       "      <td>0.113459</td>\n",
       "      <td>0.051695</td>\n",
       "      <td>-0.155801</td>\n",
       "      <td>-0.183749</td>\n",
       "      <td>-0.219942</td>\n",
       "      <td>0.197480</td>\n",
       "      <td>0.374918</td>\n",
       "      <td>-0.000910</td>\n",
       "    </tr>\n",
       "    <tr>\n",
       "      <th>population</th>\n",
       "      <td>0.005153</td>\n",
       "      <td>0.654113</td>\n",
       "      <td>0.291974</td>\n",
       "      <td>0.212289</td>\n",
       "      <td>0.007852</td>\n",
       "      <td>0.031273</td>\n",
       "      <td>0.142941</td>\n",
       "      <td>0.001595</td>\n",
       "      <td>0.069380</td>\n",
       "      <td>-0.129524</td>\n",
       "      <td>0.631451</td>\n",
       "      <td>0.000675</td>\n",
       "    </tr>\n",
       "    <tr>\n",
       "      <th>children</th>\n",
       "      <td>-0.001794</td>\n",
       "      <td>-0.033985</td>\n",
       "      <td>-0.534155</td>\n",
       "      <td>0.346412</td>\n",
       "      <td>-0.005421</td>\n",
       "      <td>0.024302</td>\n",
       "      <td>0.048573</td>\n",
       "      <td>0.275542</td>\n",
       "      <td>0.337155</td>\n",
       "      <td>-0.632783</td>\n",
       "      <td>-0.013946</td>\n",
       "      <td>0.018292</td>\n",
       "    </tr>\n",
       "    <tr>\n",
       "      <th>age</th>\n",
       "      <td>-0.011870</td>\n",
       "      <td>0.015856</td>\n",
       "      <td>0.171928</td>\n",
       "      <td>-0.434831</td>\n",
       "      <td>0.476446</td>\n",
       "      <td>-0.084388</td>\n",
       "      <td>0.015153</td>\n",
       "      <td>0.511866</td>\n",
       "      <td>-0.382015</td>\n",
       "      <td>-0.371643</td>\n",
       "      <td>0.009657</td>\n",
       "      <td>-0.021571</td>\n",
       "    </tr>\n",
       "    <tr>\n",
       "      <th>income</th>\n",
       "      <td>0.005617</td>\n",
       "      <td>-0.056578</td>\n",
       "      <td>-0.075304</td>\n",
       "      <td>0.204646</td>\n",
       "      <td>0.291301</td>\n",
       "      <td>0.736312</td>\n",
       "      <td>0.350420</td>\n",
       "      <td>0.281006</td>\n",
       "      <td>-0.015356</td>\n",
       "      <td>0.345955</td>\n",
       "      <td>-0.022891</td>\n",
       "      <td>-0.001066</td>\n",
       "    </tr>\n",
       "    <tr>\n",
       "      <th>email_sent</th>\n",
       "      <td>-0.020649</td>\n",
       "      <td>0.153557</td>\n",
       "      <td>-0.030105</td>\n",
       "      <td>-0.243381</td>\n",
       "      <td>-0.499136</td>\n",
       "      <td>-0.018534</td>\n",
       "      <td>-0.215954</td>\n",
       "      <td>0.678448</td>\n",
       "      <td>0.258384</td>\n",
       "      <td>0.303362</td>\n",
       "      <td>0.024982</td>\n",
       "      <td>-0.005525</td>\n",
       "    </tr>\n",
       "    <tr>\n",
       "      <th>tech_support_contact</th>\n",
       "      <td>0.004762</td>\n",
       "      <td>0.029454</td>\n",
       "      <td>0.151285</td>\n",
       "      <td>-0.479065</td>\n",
       "      <td>0.270298</td>\n",
       "      <td>0.296074</td>\n",
       "      <td>-0.189033</td>\n",
       "      <td>-0.230995</td>\n",
       "      <td>0.693012</td>\n",
       "      <td>-0.127909</td>\n",
       "      <td>-0.016478</td>\n",
       "      <td>0.002956</td>\n",
       "    </tr>\n",
       "    <tr>\n",
       "      <th>yearly_equip_failure</th>\n",
       "      <td>0.015620</td>\n",
       "      <td>-0.007974</td>\n",
       "      <td>-0.070914</td>\n",
       "      <td>0.268127</td>\n",
       "      <td>0.575737</td>\n",
       "      <td>-0.528463</td>\n",
       "      <td>-0.075708</td>\n",
       "      <td>0.171171</td>\n",
       "      <td>0.316823</td>\n",
       "      <td>0.418573</td>\n",
       "      <td>0.037544</td>\n",
       "      <td>0.002350</td>\n",
       "    </tr>\n",
       "    <tr>\n",
       "      <th>tenure</th>\n",
       "      <td>0.705101</td>\n",
       "      <td>-0.011167</td>\n",
       "      <td>0.021233</td>\n",
       "      <td>0.002197</td>\n",
       "      <td>-0.001666</td>\n",
       "      <td>0.017694</td>\n",
       "      <td>-0.058293</td>\n",
       "      <td>0.024043</td>\n",
       "      <td>-0.026029</td>\n",
       "      <td>-0.005108</td>\n",
       "      <td>0.008595</td>\n",
       "      <td>0.705112</td>\n",
       "    </tr>\n",
       "    <tr>\n",
       "      <th>monthly_charge</th>\n",
       "      <td>0.041787</td>\n",
       "      <td>-0.018258</td>\n",
       "      <td>-0.101232</td>\n",
       "      <td>-0.338571</td>\n",
       "      <td>-0.123977</td>\n",
       "      <td>-0.280877</td>\n",
       "      <td>0.859229</td>\n",
       "      <td>-0.035497</td>\n",
       "      <td>0.186883</td>\n",
       "      <td>0.042967</td>\n",
       "      <td>-0.011528</td>\n",
       "      <td>0.048377</td>\n",
       "    </tr>\n",
       "    <tr>\n",
       "      <th>bandwidth_gb_year</th>\n",
       "      <td>0.706801</td>\n",
       "      <td>-0.013373</td>\n",
       "      <td>-0.003022</td>\n",
       "      <td>0.002403</td>\n",
       "      <td>-0.018353</td>\n",
       "      <td>0.000109</td>\n",
       "      <td>0.001922</td>\n",
       "      <td>0.007085</td>\n",
       "      <td>0.009426</td>\n",
       "      <td>-0.009572</td>\n",
       "      <td>0.006200</td>\n",
       "      <td>-0.706844</td>\n",
       "    </tr>\n",
       "  </tbody>\n",
       "</table>\n",
       "</div>"
      ],
      "text/plain": [
       "                           PC1       PC2       PC3       PC4       PC5  \\\n",
       "latitude             -0.023646 -0.715312  0.125143 -0.002445 -0.076150   \n",
       "longitude             0.008009  0.175241 -0.734172 -0.358744  0.113459   \n",
       "population            0.005153  0.654113  0.291974  0.212289  0.007852   \n",
       "children             -0.001794 -0.033985 -0.534155  0.346412 -0.005421   \n",
       "age                  -0.011870  0.015856  0.171928 -0.434831  0.476446   \n",
       "income                0.005617 -0.056578 -0.075304  0.204646  0.291301   \n",
       "email_sent           -0.020649  0.153557 -0.030105 -0.243381 -0.499136   \n",
       "tech_support_contact  0.004762  0.029454  0.151285 -0.479065  0.270298   \n",
       "yearly_equip_failure  0.015620 -0.007974 -0.070914  0.268127  0.575737   \n",
       "tenure                0.705101 -0.011167  0.021233  0.002197 -0.001666   \n",
       "monthly_charge        0.041787 -0.018258 -0.101232 -0.338571 -0.123977   \n",
       "bandwidth_gb_year     0.706801 -0.013373 -0.003022  0.002403 -0.018353   \n",
       "\n",
       "                           PC6       PC7       PC8       PC9      PC10  \\\n",
       "latitude              0.000993 -0.011501  0.067094  0.062221 -0.021249   \n",
       "longitude             0.051695 -0.155801 -0.183749 -0.219942  0.197480   \n",
       "population            0.031273  0.142941  0.001595  0.069380 -0.129524   \n",
       "children              0.024302  0.048573  0.275542  0.337155 -0.632783   \n",
       "age                  -0.084388  0.015153  0.511866 -0.382015 -0.371643   \n",
       "income                0.736312  0.350420  0.281006 -0.015356  0.345955   \n",
       "email_sent           -0.018534 -0.215954  0.678448  0.258384  0.303362   \n",
       "tech_support_contact  0.296074 -0.189033 -0.230995  0.693012 -0.127909   \n",
       "yearly_equip_failure -0.528463 -0.075708  0.171171  0.316823  0.418573   \n",
       "tenure                0.017694 -0.058293  0.024043 -0.026029 -0.005108   \n",
       "monthly_charge       -0.280877  0.859229 -0.035497  0.186883  0.042967   \n",
       "bandwidth_gb_year     0.000109  0.001922  0.007085  0.009426 -0.009572   \n",
       "\n",
       "                          PC11      PC12  \n",
       "latitude              0.676273 -0.000987  \n",
       "longitude             0.374918 -0.000910  \n",
       "population            0.631451  0.000675  \n",
       "children             -0.013946  0.018292  \n",
       "age                   0.009657 -0.021571  \n",
       "income               -0.022891 -0.001066  \n",
       "email_sent            0.024982 -0.005525  \n",
       "tech_support_contact -0.016478  0.002956  \n",
       "yearly_equip_failure  0.037544  0.002350  \n",
       "tenure                0.008595  0.705112  \n",
       "monthly_charge       -0.011528  0.048377  \n",
       "bandwidth_gb_year     0.006200 -0.706844  "
      ]
     },
     "execution_count": 20,
     "metadata": {},
     "output_type": "execute_result"
    }
   ],
   "source": [
    "cd_pca_loadings"
   ]
  },
  {
   "cell_type": "code",
   "execution_count": 21,
   "id": "2e663c91",
   "metadata": {
    "scrolled": false
   },
   "outputs": [
    {
     "data": {
      "image/png": "[encoded data removed]",
      "text/plain": [
       "<Figure size 640x480 with 1 Axes>"
      ]
     },
     "metadata": {},
     "output_type": "display_data"
    }
   ],
   "source": [
    "covar_matrix = np.dot(cd_pca_normalized.T, cd_pca_normalized) / cd_pca.shape[0]\n",
    "eigenvalues = [np.dot(eigenvector.T, np.dot(covar_matrix, eigenvector)) for eigenvector in pca.components_]\n",
    "\n",
    "plt.plot(eigenvalues)\n",
    "plt.xlabel('# of Components')\n",
    "plt.ylabel('Eigenvalues')\n",
    "plt.axhline(y=1, color='red')\n",
    "plt.show()"
   ]
  },
  {
   "cell_type": "code",
   "execution_count": 22,
   "id": "76684c10",
   "metadata": {},
   "outputs": [
    {
     "data": {
      "text/plain": [
       "[1.8966793499602992,\n",
       " 1.2335749183429727,\n",
       " 1.0513931129137895,\n",
       " 1.0399231329475305,\n",
       " 1.0155861697283426,\n",
       " 1.004836213847584,\n",
       " 0.9939338410226858,\n",
       " 0.9854379426559764,\n",
       " 0.9781318949818298,\n",
       " 0.9603580981545289,\n",
       " 0.7357776138543958,\n",
       " 0.10316771159016593]"
      ]
     },
     "execution_count": 22,
     "metadata": {},
     "output_type": "execute_result"
    }
   ],
   "source": [
    "eigenvalues"
   ]
  },
  {
   "cell_type": "code",
   "execution_count": null,
   "id": "b2360113",
   "metadata": {},
   "outputs": [],
   "source": []
  },
  {
   "cell_type": "code",
   "execution_count": null,
   "id": "5d92d694",
   "metadata": {},
   "outputs": [],
   "source": []
  }
 ],
 "metadata": {
  "kernelspec": {
   "display_name": "Python 3 (ipykernel)",
   "language": "python",
   "name": "python3"
  },
  "language_info": {
   "codemirror_mode": {
    "name": "ipython",
    "version": 3
   },
   "file_extension": ".py",
   "mimetype": "text/x-python",
   "name": "python",
   "nbconvert_exporter": "python",
   "pygments_lexer": "ipython3",
   "version": "3.11.4"
  }
 },
 "nbformat": 4,
 "nbformat_minor": 5
}
