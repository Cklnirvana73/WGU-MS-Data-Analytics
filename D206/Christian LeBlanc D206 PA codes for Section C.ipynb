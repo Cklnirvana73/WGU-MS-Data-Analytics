{
 "cells": [
  {
   "cell_type": "code",
   "execution_count": 1,
   "id": "f2ef8dfc",
   "metadata": {},
   "outputs": [],
   "source": [
    "import pandas as pd \n",
    "import numpy as np"
   ]
  },
  {
   "cell_type": "code",
   "execution_count": 2,
   "id": "49e9f5d2",
   "metadata": {},
   "outputs": [],
   "source": [
    "# Grabbing data from the csv file and telling Pandas that the data already contains an index column.\n",
    "cd = pd.read_csv(\"C:/Users/cklni/Desktop/WGU/D206/churn_raw_data.csv\", index_col= [0])"
   ]
  },
  {
   "cell_type": "code",
   "execution_count": 3,
   "id": "3364be4c",
   "metadata": {},
   "outputs": [
    {
     "name": "stdout",
     "output_type": "stream",
     "text": [
      "<class 'pandas.core.frame.DataFrame'>\n",
      "Int64Index: 10000 entries, 1 to 10000\n",
      "Data columns (total 51 columns):\n",
      " #   Column                Non-Null Count  Dtype  \n",
      "---  ------                --------------  -----  \n",
      " 0   CaseOrder             10000 non-null  int64  \n",
      " 1   Customer_id           10000 non-null  object \n",
      " 2   Interaction           10000 non-null  object \n",
      " 3   City                  10000 non-null  object \n",
      " 4   State                 10000 non-null  object \n",
      " 5   County                10000 non-null  object \n",
      " 6   Zip                   10000 non-null  int64  \n",
      " 7   Lat                   10000 non-null  float64\n",
      " 8   Lng                   10000 non-null  float64\n",
      " 9   Population            10000 non-null  int64  \n",
      " 10  Area                  10000 non-null  object \n",
      " 11  Timezone              10000 non-null  object \n",
      " 12  Job                   10000 non-null  object \n",
      " 13  Children              7505 non-null   float64\n",
      " 14  Age                   7525 non-null   float64\n",
      " 15  Education             10000 non-null  object \n",
      " 16  Employment            10000 non-null  object \n",
      " 17  Income                7510 non-null   float64\n",
      " 18  Marital               10000 non-null  object \n",
      " 19  Gender                10000 non-null  object \n",
      " 20  Churn                 10000 non-null  object \n",
      " 21  Outage_sec_perweek    10000 non-null  float64\n",
      " 22  Email                 10000 non-null  int64  \n",
      " 23  Contacts              10000 non-null  int64  \n",
      " 24  Yearly_equip_failure  10000 non-null  int64  \n",
      " 25  Techie                7523 non-null   object \n",
      " 26  Contract              10000 non-null  object \n",
      " 27  Port_modem            10000 non-null  object \n",
      " 28  Tablet                10000 non-null  object \n",
      " 29  InternetService       10000 non-null  object \n",
      " 30  Phone                 8974 non-null   object \n",
      " 31  Multiple              10000 non-null  object \n",
      " 32  OnlineSecurity        10000 non-null  object \n",
      " 33  OnlineBackup          10000 non-null  object \n",
      " 34  DeviceProtection      10000 non-null  object \n",
      " 35  TechSupport           9009 non-null   object \n",
      " 36  StreamingTV           10000 non-null  object \n",
      " 37  StreamingMovies       10000 non-null  object \n",
      " 38  PaperlessBilling      10000 non-null  object \n",
      " 39  PaymentMethod         10000 non-null  object \n",
      " 40  Tenure                9069 non-null   float64\n",
      " 41  MonthlyCharge         10000 non-null  float64\n",
      " 42  Bandwidth_GB_Year     8979 non-null   float64\n",
      " 43  item1                 10000 non-null  int64  \n",
      " 44  item2                 10000 non-null  int64  \n",
      " 45  item3                 10000 non-null  int64  \n",
      " 46  item4                 10000 non-null  int64  \n",
      " 47  item5                 10000 non-null  int64  \n",
      " 48  item6                 10000 non-null  int64  \n",
      " 49  item7                 10000 non-null  int64  \n",
      " 50  item8                 10000 non-null  int64  \n",
      "dtypes: float64(9), int64(14), object(28)\n",
      "memory usage: 4.0+ MB\n"
     ]
    }
   ],
   "source": [
    "# checking for number of columns, columns with null values, and datatype of columns.\n",
    "cd.info()"
   ]
  },
  {
   "cell_type": "code",
   "execution_count": 4,
   "id": "4a4c37f9",
   "metadata": {},
   "outputs": [
    {
     "data": {
      "text/html": [
       "<div>\n",
       "<style scoped>\n",
       "    .dataframe tbody tr th:only-of-type {\n",
       "        vertical-align: middle;\n",
       "    }\n",
       "\n",
       "    .dataframe tbody tr th {\n",
       "        vertical-align: top;\n",
       "    }\n",
       "\n",
       "    .dataframe thead th {\n",
       "        text-align: right;\n",
       "    }\n",
       "</style>\n",
       "<table border=\"1\" class=\"dataframe\">\n",
       "  <thead>\n",
       "    <tr style=\"text-align: right;\">\n",
       "      <th></th>\n",
       "      <th>CaseOrder</th>\n",
       "      <th>Customer_id</th>\n",
       "      <th>Interaction</th>\n",
       "      <th>City</th>\n",
       "      <th>State</th>\n",
       "      <th>County</th>\n",
       "      <th>Zip</th>\n",
       "      <th>Lat</th>\n",
       "      <th>Lng</th>\n",
       "      <th>Population</th>\n",
       "      <th>Area</th>\n",
       "      <th>Timezone</th>\n",
       "      <th>Job</th>\n",
       "      <th>Children</th>\n",
       "      <th>Age</th>\n",
       "      <th>Education</th>\n",
       "      <th>Employment</th>\n",
       "      <th>Income</th>\n",
       "      <th>Marital</th>\n",
       "      <th>Gender</th>\n",
       "      <th>Churn</th>\n",
       "      <th>Outage_sec_perweek</th>\n",
       "      <th>Email</th>\n",
       "      <th>Contacts</th>\n",
       "      <th>Yearly_equip_failure</th>\n",
       "      <th>Techie</th>\n",
       "      <th>Contract</th>\n",
       "      <th>Port_modem</th>\n",
       "      <th>Tablet</th>\n",
       "      <th>InternetService</th>\n",
       "      <th>Phone</th>\n",
       "      <th>Multiple</th>\n",
       "      <th>OnlineSecurity</th>\n",
       "      <th>OnlineBackup</th>\n",
       "      <th>DeviceProtection</th>\n",
       "      <th>TechSupport</th>\n",
       "      <th>StreamingTV</th>\n",
       "      <th>StreamingMovies</th>\n",
       "      <th>PaperlessBilling</th>\n",
       "      <th>PaymentMethod</th>\n",
       "      <th>Tenure</th>\n",
       "      <th>MonthlyCharge</th>\n",
       "      <th>Bandwidth_GB_Year</th>\n",
       "      <th>item1</th>\n",
       "      <th>item2</th>\n",
       "      <th>item3</th>\n",
       "      <th>item4</th>\n",
       "      <th>item5</th>\n",
       "      <th>item6</th>\n",
       "      <th>item7</th>\n",
       "      <th>item8</th>\n",
       "    </tr>\n",
       "  </thead>\n",
       "  <tbody>\n",
       "    <tr>\n",
       "      <th>1</th>\n",
       "      <td>1</td>\n",
       "      <td>K409198</td>\n",
       "      <td>aa90260b-4141-4a24-8e36-b04ce1f4f77b</td>\n",
       "      <td>Point Baker</td>\n",
       "      <td>AK</td>\n",
       "      <td>Prince of Wales-Hyder</td>\n",
       "      <td>99927</td>\n",
       "      <td>56.25100</td>\n",
       "      <td>-133.37571</td>\n",
       "      <td>38</td>\n",
       "      <td>Urban</td>\n",
       "      <td>America/Sitka</td>\n",
       "      <td>Environmental health practitioner</td>\n",
       "      <td>NaN</td>\n",
       "      <td>68.0</td>\n",
       "      <td>Master's Degree</td>\n",
       "      <td>Part Time</td>\n",
       "      <td>28561.99</td>\n",
       "      <td>Widowed</td>\n",
       "      <td>Male</td>\n",
       "      <td>No</td>\n",
       "      <td>6.972566</td>\n",
       "      <td>10</td>\n",
       "      <td>0</td>\n",
       "      <td>1</td>\n",
       "      <td>No</td>\n",
       "      <td>One year</td>\n",
       "      <td>Yes</td>\n",
       "      <td>Yes</td>\n",
       "      <td>Fiber Optic</td>\n",
       "      <td>Yes</td>\n",
       "      <td>No</td>\n",
       "      <td>Yes</td>\n",
       "      <td>Yes</td>\n",
       "      <td>No</td>\n",
       "      <td>No</td>\n",
       "      <td>No</td>\n",
       "      <td>Yes</td>\n",
       "      <td>Yes</td>\n",
       "      <td>Credit Card (automatic)</td>\n",
       "      <td>6.795513</td>\n",
       "      <td>171.449762</td>\n",
       "      <td>904.536110</td>\n",
       "      <td>5</td>\n",
       "      <td>5</td>\n",
       "      <td>5</td>\n",
       "      <td>3</td>\n",
       "      <td>4</td>\n",
       "      <td>4</td>\n",
       "      <td>3</td>\n",
       "      <td>4</td>\n",
       "    </tr>\n",
       "    <tr>\n",
       "      <th>2</th>\n",
       "      <td>2</td>\n",
       "      <td>S120509</td>\n",
       "      <td>fb76459f-c047-4a9d-8af9-e0f7d4ac2524</td>\n",
       "      <td>West Branch</td>\n",
       "      <td>MI</td>\n",
       "      <td>Ogemaw</td>\n",
       "      <td>48661</td>\n",
       "      <td>44.32893</td>\n",
       "      <td>-84.24080</td>\n",
       "      <td>10446</td>\n",
       "      <td>Urban</td>\n",
       "      <td>America/Detroit</td>\n",
       "      <td>Programmer, multimedia</td>\n",
       "      <td>1.0</td>\n",
       "      <td>27.0</td>\n",
       "      <td>Regular High School Diploma</td>\n",
       "      <td>Retired</td>\n",
       "      <td>21704.77</td>\n",
       "      <td>Married</td>\n",
       "      <td>Female</td>\n",
       "      <td>Yes</td>\n",
       "      <td>12.014541</td>\n",
       "      <td>12</td>\n",
       "      <td>0</td>\n",
       "      <td>1</td>\n",
       "      <td>Yes</td>\n",
       "      <td>Month-to-month</td>\n",
       "      <td>No</td>\n",
       "      <td>Yes</td>\n",
       "      <td>Fiber Optic</td>\n",
       "      <td>Yes</td>\n",
       "      <td>Yes</td>\n",
       "      <td>Yes</td>\n",
       "      <td>No</td>\n",
       "      <td>No</td>\n",
       "      <td>No</td>\n",
       "      <td>Yes</td>\n",
       "      <td>Yes</td>\n",
       "      <td>Yes</td>\n",
       "      <td>Bank Transfer(automatic)</td>\n",
       "      <td>1.156681</td>\n",
       "      <td>242.948015</td>\n",
       "      <td>800.982766</td>\n",
       "      <td>3</td>\n",
       "      <td>4</td>\n",
       "      <td>3</td>\n",
       "      <td>3</td>\n",
       "      <td>4</td>\n",
       "      <td>3</td>\n",
       "      <td>4</td>\n",
       "      <td>4</td>\n",
       "    </tr>\n",
       "    <tr>\n",
       "      <th>3</th>\n",
       "      <td>3</td>\n",
       "      <td>K191035</td>\n",
       "      <td>344d114c-3736-4be5-98f7-c72c281e2d35</td>\n",
       "      <td>Yamhill</td>\n",
       "      <td>OR</td>\n",
       "      <td>Yamhill</td>\n",
       "      <td>97148</td>\n",
       "      <td>45.35589</td>\n",
       "      <td>-123.24657</td>\n",
       "      <td>3735</td>\n",
       "      <td>Urban</td>\n",
       "      <td>America/Los_Angeles</td>\n",
       "      <td>Chief Financial Officer</td>\n",
       "      <td>4.0</td>\n",
       "      <td>50.0</td>\n",
       "      <td>Regular High School Diploma</td>\n",
       "      <td>Student</td>\n",
       "      <td>NaN</td>\n",
       "      <td>Widowed</td>\n",
       "      <td>Female</td>\n",
       "      <td>No</td>\n",
       "      <td>10.245616</td>\n",
       "      <td>9</td>\n",
       "      <td>0</td>\n",
       "      <td>1</td>\n",
       "      <td>Yes</td>\n",
       "      <td>Two Year</td>\n",
       "      <td>Yes</td>\n",
       "      <td>No</td>\n",
       "      <td>DSL</td>\n",
       "      <td>Yes</td>\n",
       "      <td>Yes</td>\n",
       "      <td>No</td>\n",
       "      <td>No</td>\n",
       "      <td>No</td>\n",
       "      <td>No</td>\n",
       "      <td>No</td>\n",
       "      <td>Yes</td>\n",
       "      <td>Yes</td>\n",
       "      <td>Credit Card (automatic)</td>\n",
       "      <td>15.754144</td>\n",
       "      <td>159.440398</td>\n",
       "      <td>2054.706961</td>\n",
       "      <td>4</td>\n",
       "      <td>4</td>\n",
       "      <td>2</td>\n",
       "      <td>4</td>\n",
       "      <td>4</td>\n",
       "      <td>3</td>\n",
       "      <td>3</td>\n",
       "      <td>3</td>\n",
       "    </tr>\n",
       "    <tr>\n",
       "      <th>4</th>\n",
       "      <td>4</td>\n",
       "      <td>D90850</td>\n",
       "      <td>abfa2b40-2d43-4994-b15a-989b8c79e311</td>\n",
       "      <td>Del Mar</td>\n",
       "      <td>CA</td>\n",
       "      <td>San Diego</td>\n",
       "      <td>92014</td>\n",
       "      <td>32.96687</td>\n",
       "      <td>-117.24798</td>\n",
       "      <td>13863</td>\n",
       "      <td>Suburban</td>\n",
       "      <td>America/Los_Angeles</td>\n",
       "      <td>Solicitor</td>\n",
       "      <td>1.0</td>\n",
       "      <td>48.0</td>\n",
       "      <td>Doctorate Degree</td>\n",
       "      <td>Retired</td>\n",
       "      <td>18925.23</td>\n",
       "      <td>Married</td>\n",
       "      <td>Male</td>\n",
       "      <td>No</td>\n",
       "      <td>15.206193</td>\n",
       "      <td>15</td>\n",
       "      <td>2</td>\n",
       "      <td>0</td>\n",
       "      <td>Yes</td>\n",
       "      <td>Two Year</td>\n",
       "      <td>No</td>\n",
       "      <td>No</td>\n",
       "      <td>DSL</td>\n",
       "      <td>Yes</td>\n",
       "      <td>No</td>\n",
       "      <td>Yes</td>\n",
       "      <td>No</td>\n",
       "      <td>No</td>\n",
       "      <td>No</td>\n",
       "      <td>Yes</td>\n",
       "      <td>No</td>\n",
       "      <td>Yes</td>\n",
       "      <td>Mailed Check</td>\n",
       "      <td>17.087227</td>\n",
       "      <td>120.249493</td>\n",
       "      <td>2164.579412</td>\n",
       "      <td>4</td>\n",
       "      <td>4</td>\n",
       "      <td>4</td>\n",
       "      <td>2</td>\n",
       "      <td>5</td>\n",
       "      <td>4</td>\n",
       "      <td>3</td>\n",
       "      <td>3</td>\n",
       "    </tr>\n",
       "    <tr>\n",
       "      <th>5</th>\n",
       "      <td>5</td>\n",
       "      <td>K662701</td>\n",
       "      <td>68a861fd-0d20-4e51-a587-8a90407ee574</td>\n",
       "      <td>Needville</td>\n",
       "      <td>TX</td>\n",
       "      <td>Fort Bend</td>\n",
       "      <td>77461</td>\n",
       "      <td>29.38012</td>\n",
       "      <td>-95.80673</td>\n",
       "      <td>11352</td>\n",
       "      <td>Suburban</td>\n",
       "      <td>America/Chicago</td>\n",
       "      <td>Medical illustrator</td>\n",
       "      <td>0.0</td>\n",
       "      <td>83.0</td>\n",
       "      <td>Master's Degree</td>\n",
       "      <td>Student</td>\n",
       "      <td>40074.19</td>\n",
       "      <td>Separated</td>\n",
       "      <td>Male</td>\n",
       "      <td>Yes</td>\n",
       "      <td>8.960316</td>\n",
       "      <td>16</td>\n",
       "      <td>2</td>\n",
       "      <td>1</td>\n",
       "      <td>No</td>\n",
       "      <td>Month-to-month</td>\n",
       "      <td>Yes</td>\n",
       "      <td>No</td>\n",
       "      <td>Fiber Optic</td>\n",
       "      <td>No</td>\n",
       "      <td>No</td>\n",
       "      <td>No</td>\n",
       "      <td>No</td>\n",
       "      <td>No</td>\n",
       "      <td>Yes</td>\n",
       "      <td>Yes</td>\n",
       "      <td>No</td>\n",
       "      <td>No</td>\n",
       "      <td>Mailed Check</td>\n",
       "      <td>1.670972</td>\n",
       "      <td>150.761216</td>\n",
       "      <td>271.493436</td>\n",
       "      <td>4</td>\n",
       "      <td>4</td>\n",
       "      <td>4</td>\n",
       "      <td>3</td>\n",
       "      <td>4</td>\n",
       "      <td>4</td>\n",
       "      <td>4</td>\n",
       "      <td>5</td>\n",
       "    </tr>\n",
       "    <tr>\n",
       "      <th>...</th>\n",
       "      <td>...</td>\n",
       "      <td>...</td>\n",
       "      <td>...</td>\n",
       "      <td>...</td>\n",
       "      <td>...</td>\n",
       "      <td>...</td>\n",
       "      <td>...</td>\n",
       "      <td>...</td>\n",
       "      <td>...</td>\n",
       "      <td>...</td>\n",
       "      <td>...</td>\n",
       "      <td>...</td>\n",
       "      <td>...</td>\n",
       "      <td>...</td>\n",
       "      <td>...</td>\n",
       "      <td>...</td>\n",
       "      <td>...</td>\n",
       "      <td>...</td>\n",
       "      <td>...</td>\n",
       "      <td>...</td>\n",
       "      <td>...</td>\n",
       "      <td>...</td>\n",
       "      <td>...</td>\n",
       "      <td>...</td>\n",
       "      <td>...</td>\n",
       "      <td>...</td>\n",
       "      <td>...</td>\n",
       "      <td>...</td>\n",
       "      <td>...</td>\n",
       "      <td>...</td>\n",
       "      <td>...</td>\n",
       "      <td>...</td>\n",
       "      <td>...</td>\n",
       "      <td>...</td>\n",
       "      <td>...</td>\n",
       "      <td>...</td>\n",
       "      <td>...</td>\n",
       "      <td>...</td>\n",
       "      <td>...</td>\n",
       "      <td>...</td>\n",
       "      <td>...</td>\n",
       "      <td>...</td>\n",
       "      <td>...</td>\n",
       "      <td>...</td>\n",
       "      <td>...</td>\n",
       "      <td>...</td>\n",
       "      <td>...</td>\n",
       "      <td>...</td>\n",
       "      <td>...</td>\n",
       "      <td>...</td>\n",
       "      <td>...</td>\n",
       "    </tr>\n",
       "    <tr>\n",
       "      <th>9996</th>\n",
       "      <td>9996</td>\n",
       "      <td>M324793</td>\n",
       "      <td>45deb5a2-ae04-4518-bf0b-c82db8dbe4a4</td>\n",
       "      <td>Mount Holly</td>\n",
       "      <td>VT</td>\n",
       "      <td>Rutland</td>\n",
       "      <td>5758</td>\n",
       "      <td>43.43391</td>\n",
       "      <td>-72.78734</td>\n",
       "      <td>640</td>\n",
       "      <td>Rural</td>\n",
       "      <td>America/New_York</td>\n",
       "      <td>Sport and exercise psychologist</td>\n",
       "      <td>3.0</td>\n",
       "      <td>NaN</td>\n",
       "      <td>Some College, Less than 1 Year</td>\n",
       "      <td>Retired</td>\n",
       "      <td>55723.74</td>\n",
       "      <td>Married</td>\n",
       "      <td>Male</td>\n",
       "      <td>No</td>\n",
       "      <td>9.265392</td>\n",
       "      <td>12</td>\n",
       "      <td>2</td>\n",
       "      <td>0</td>\n",
       "      <td>NaN</td>\n",
       "      <td>Month-to-month</td>\n",
       "      <td>Yes</td>\n",
       "      <td>Yes</td>\n",
       "      <td>DSL</td>\n",
       "      <td>NaN</td>\n",
       "      <td>Yes</td>\n",
       "      <td>No</td>\n",
       "      <td>Yes</td>\n",
       "      <td>Yes</td>\n",
       "      <td>No</td>\n",
       "      <td>No</td>\n",
       "      <td>No</td>\n",
       "      <td>No</td>\n",
       "      <td>Electronic Check</td>\n",
       "      <td>68.197130</td>\n",
       "      <td>159.828800</td>\n",
       "      <td>6511.253000</td>\n",
       "      <td>3</td>\n",
       "      <td>2</td>\n",
       "      <td>3</td>\n",
       "      <td>3</td>\n",
       "      <td>4</td>\n",
       "      <td>3</td>\n",
       "      <td>2</td>\n",
       "      <td>3</td>\n",
       "    </tr>\n",
       "    <tr>\n",
       "      <th>9997</th>\n",
       "      <td>9997</td>\n",
       "      <td>D861732</td>\n",
       "      <td>6e96b921-0c09-4993-bbda-a1ac6411061a</td>\n",
       "      <td>Clarksville</td>\n",
       "      <td>TN</td>\n",
       "      <td>Montgomery</td>\n",
       "      <td>37042</td>\n",
       "      <td>36.56907</td>\n",
       "      <td>-87.41694</td>\n",
       "      <td>77168</td>\n",
       "      <td>Rural</td>\n",
       "      <td>America/Chicago</td>\n",
       "      <td>Consulting civil engineer</td>\n",
       "      <td>4.0</td>\n",
       "      <td>48.0</td>\n",
       "      <td>Regular High School Diploma</td>\n",
       "      <td>Part Time</td>\n",
       "      <td>NaN</td>\n",
       "      <td>Divorced</td>\n",
       "      <td>Male</td>\n",
       "      <td>No</td>\n",
       "      <td>8.115849</td>\n",
       "      <td>15</td>\n",
       "      <td>2</td>\n",
       "      <td>0</td>\n",
       "      <td>NaN</td>\n",
       "      <td>Two Year</td>\n",
       "      <td>No</td>\n",
       "      <td>No</td>\n",
       "      <td>Fiber Optic</td>\n",
       "      <td>NaN</td>\n",
       "      <td>Yes</td>\n",
       "      <td>Yes</td>\n",
       "      <td>Yes</td>\n",
       "      <td>Yes</td>\n",
       "      <td>No</td>\n",
       "      <td>Yes</td>\n",
       "      <td>No</td>\n",
       "      <td>No</td>\n",
       "      <td>Electronic Check</td>\n",
       "      <td>61.040370</td>\n",
       "      <td>208.856400</td>\n",
       "      <td>5695.952000</td>\n",
       "      <td>4</td>\n",
       "      <td>5</td>\n",
       "      <td>5</td>\n",
       "      <td>4</td>\n",
       "      <td>4</td>\n",
       "      <td>5</td>\n",
       "      <td>2</td>\n",
       "      <td>5</td>\n",
       "    </tr>\n",
       "    <tr>\n",
       "      <th>9998</th>\n",
       "      <td>9998</td>\n",
       "      <td>I243405</td>\n",
       "      <td>e8307ddf-9a01-4fff-bc59-4742e03fd24f</td>\n",
       "      <td>Mobeetie</td>\n",
       "      <td>TX</td>\n",
       "      <td>Wheeler</td>\n",
       "      <td>79061</td>\n",
       "      <td>35.52039</td>\n",
       "      <td>-100.44180</td>\n",
       "      <td>406</td>\n",
       "      <td>Rural</td>\n",
       "      <td>America/Chicago</td>\n",
       "      <td>IT technical support officer</td>\n",
       "      <td>NaN</td>\n",
       "      <td>NaN</td>\n",
       "      <td>Nursery School to 8th Grade</td>\n",
       "      <td>Full Time</td>\n",
       "      <td>NaN</td>\n",
       "      <td>Never Married</td>\n",
       "      <td>Female</td>\n",
       "      <td>No</td>\n",
       "      <td>4.837696</td>\n",
       "      <td>10</td>\n",
       "      <td>0</td>\n",
       "      <td>0</td>\n",
       "      <td>No</td>\n",
       "      <td>Month-to-month</td>\n",
       "      <td>No</td>\n",
       "      <td>No</td>\n",
       "      <td>Fiber Optic</td>\n",
       "      <td>Yes</td>\n",
       "      <td>Yes</td>\n",
       "      <td>Yes</td>\n",
       "      <td>Yes</td>\n",
       "      <td>No</td>\n",
       "      <td>No</td>\n",
       "      <td>No</td>\n",
       "      <td>No</td>\n",
       "      <td>Yes</td>\n",
       "      <td>Bank Transfer(automatic)</td>\n",
       "      <td>NaN</td>\n",
       "      <td>168.220900</td>\n",
       "      <td>4159.306000</td>\n",
       "      <td>4</td>\n",
       "      <td>4</td>\n",
       "      <td>4</td>\n",
       "      <td>4</td>\n",
       "      <td>4</td>\n",
       "      <td>4</td>\n",
       "      <td>4</td>\n",
       "      <td>5</td>\n",
       "    </tr>\n",
       "    <tr>\n",
       "      <th>9999</th>\n",
       "      <td>9999</td>\n",
       "      <td>I641617</td>\n",
       "      <td>3775ccfc-0052-4107-81ae-9657f81ecdf3</td>\n",
       "      <td>Carrollton</td>\n",
       "      <td>GA</td>\n",
       "      <td>Carroll</td>\n",
       "      <td>30117</td>\n",
       "      <td>33.58016</td>\n",
       "      <td>-85.13241</td>\n",
       "      <td>35575</td>\n",
       "      <td>Urban</td>\n",
       "      <td>America/New_York</td>\n",
       "      <td>Water engineer</td>\n",
       "      <td>1.0</td>\n",
       "      <td>39.0</td>\n",
       "      <td>Bachelor's Degree</td>\n",
       "      <td>Full Time</td>\n",
       "      <td>16667.58</td>\n",
       "      <td>Separated</td>\n",
       "      <td>Male</td>\n",
       "      <td>No</td>\n",
       "      <td>12.076460</td>\n",
       "      <td>14</td>\n",
       "      <td>1</td>\n",
       "      <td>0</td>\n",
       "      <td>No</td>\n",
       "      <td>Two Year</td>\n",
       "      <td>No</td>\n",
       "      <td>Yes</td>\n",
       "      <td>Fiber Optic</td>\n",
       "      <td>No</td>\n",
       "      <td>Yes</td>\n",
       "      <td>No</td>\n",
       "      <td>No</td>\n",
       "      <td>No</td>\n",
       "      <td>Yes</td>\n",
       "      <td>Yes</td>\n",
       "      <td>Yes</td>\n",
       "      <td>Yes</td>\n",
       "      <td>Credit Card (automatic)</td>\n",
       "      <td>71.095600</td>\n",
       "      <td>252.628600</td>\n",
       "      <td>6468.457000</td>\n",
       "      <td>4</td>\n",
       "      <td>4</td>\n",
       "      <td>6</td>\n",
       "      <td>4</td>\n",
       "      <td>3</td>\n",
       "      <td>3</td>\n",
       "      <td>5</td>\n",
       "      <td>4</td>\n",
       "    </tr>\n",
       "    <tr>\n",
       "      <th>10000</th>\n",
       "      <td>10000</td>\n",
       "      <td>T38070</td>\n",
       "      <td>9de5fb6e-bd33-4995-aec8-f01d0172a499</td>\n",
       "      <td>Clarkesville</td>\n",
       "      <td>GA</td>\n",
       "      <td>Habersham</td>\n",
       "      <td>30523</td>\n",
       "      <td>34.70783</td>\n",
       "      <td>-83.53648</td>\n",
       "      <td>12230</td>\n",
       "      <td>Urban</td>\n",
       "      <td>America/New_York</td>\n",
       "      <td>Personal assistant</td>\n",
       "      <td>1.0</td>\n",
       "      <td>28.0</td>\n",
       "      <td>GED or Alternative Credential</td>\n",
       "      <td>Full Time</td>\n",
       "      <td>NaN</td>\n",
       "      <td>Never Married</td>\n",
       "      <td>Male</td>\n",
       "      <td>No</td>\n",
       "      <td>12.641760</td>\n",
       "      <td>17</td>\n",
       "      <td>1</td>\n",
       "      <td>0</td>\n",
       "      <td>NaN</td>\n",
       "      <td>Month-to-month</td>\n",
       "      <td>Yes</td>\n",
       "      <td>No</td>\n",
       "      <td>Fiber Optic</td>\n",
       "      <td>Yes</td>\n",
       "      <td>Yes</td>\n",
       "      <td>Yes</td>\n",
       "      <td>Yes</td>\n",
       "      <td>Yes</td>\n",
       "      <td>No</td>\n",
       "      <td>No</td>\n",
       "      <td>Yes</td>\n",
       "      <td>Yes</td>\n",
       "      <td>Electronic Check</td>\n",
       "      <td>63.350860</td>\n",
       "      <td>218.371000</td>\n",
       "      <td>5857.586000</td>\n",
       "      <td>2</td>\n",
       "      <td>2</td>\n",
       "      <td>3</td>\n",
       "      <td>3</td>\n",
       "      <td>3</td>\n",
       "      <td>3</td>\n",
       "      <td>4</td>\n",
       "      <td>1</td>\n",
       "    </tr>\n",
       "  </tbody>\n",
       "</table>\n",
       "<p>10000 rows × 51 columns</p>\n",
       "</div>"
      ],
      "text/plain": [
       "       CaseOrder Customer_id                           Interaction  \\\n",
       "1              1     K409198  aa90260b-4141-4a24-8e36-b04ce1f4f77b   \n",
       "2              2     S120509  fb76459f-c047-4a9d-8af9-e0f7d4ac2524   \n",
       "3              3     K191035  344d114c-3736-4be5-98f7-c72c281e2d35   \n",
       "4              4      D90850  abfa2b40-2d43-4994-b15a-989b8c79e311   \n",
       "5              5     K662701  68a861fd-0d20-4e51-a587-8a90407ee574   \n",
       "...          ...         ...                                   ...   \n",
       "9996        9996     M324793  45deb5a2-ae04-4518-bf0b-c82db8dbe4a4   \n",
       "9997        9997     D861732  6e96b921-0c09-4993-bbda-a1ac6411061a   \n",
       "9998        9998     I243405  e8307ddf-9a01-4fff-bc59-4742e03fd24f   \n",
       "9999        9999     I641617  3775ccfc-0052-4107-81ae-9657f81ecdf3   \n",
       "10000      10000      T38070  9de5fb6e-bd33-4995-aec8-f01d0172a499   \n",
       "\n",
       "               City State                 County    Zip       Lat        Lng  \\\n",
       "1       Point Baker    AK  Prince of Wales-Hyder  99927  56.25100 -133.37571   \n",
       "2       West Branch    MI                 Ogemaw  48661  44.32893  -84.24080   \n",
       "3           Yamhill    OR                Yamhill  97148  45.35589 -123.24657   \n",
       "4           Del Mar    CA              San Diego  92014  32.96687 -117.24798   \n",
       "5         Needville    TX              Fort Bend  77461  29.38012  -95.80673   \n",
       "...             ...   ...                    ...    ...       ...        ...   \n",
       "9996    Mount Holly    VT                Rutland   5758  43.43391  -72.78734   \n",
       "9997    Clarksville    TN             Montgomery  37042  36.56907  -87.41694   \n",
       "9998       Mobeetie    TX                Wheeler  79061  35.52039 -100.44180   \n",
       "9999     Carrollton    GA                Carroll  30117  33.58016  -85.13241   \n",
       "10000  Clarkesville    GA              Habersham  30523  34.70783  -83.53648   \n",
       "\n",
       "       Population      Area             Timezone  \\\n",
       "1              38     Urban        America/Sitka   \n",
       "2           10446     Urban      America/Detroit   \n",
       "3            3735     Urban  America/Los_Angeles   \n",
       "4           13863  Suburban  America/Los_Angeles   \n",
       "5           11352  Suburban      America/Chicago   \n",
       "...           ...       ...                  ...   \n",
       "9996          640     Rural     America/New_York   \n",
       "9997        77168     Rural      America/Chicago   \n",
       "9998          406     Rural      America/Chicago   \n",
       "9999        35575     Urban     America/New_York   \n",
       "10000       12230     Urban     America/New_York   \n",
       "\n",
       "                                     Job  Children   Age  \\\n",
       "1      Environmental health practitioner       NaN  68.0   \n",
       "2                 Programmer, multimedia       1.0  27.0   \n",
       "3                Chief Financial Officer       4.0  50.0   \n",
       "4                              Solicitor       1.0  48.0   \n",
       "5                    Medical illustrator       0.0  83.0   \n",
       "...                                  ...       ...   ...   \n",
       "9996     Sport and exercise psychologist       3.0   NaN   \n",
       "9997           Consulting civil engineer       4.0  48.0   \n",
       "9998        IT technical support officer       NaN   NaN   \n",
       "9999                      Water engineer       1.0  39.0   \n",
       "10000                 Personal assistant       1.0  28.0   \n",
       "\n",
       "                            Education Employment    Income        Marital  \\\n",
       "1                     Master's Degree  Part Time  28561.99        Widowed   \n",
       "2         Regular High School Diploma    Retired  21704.77        Married   \n",
       "3         Regular High School Diploma    Student       NaN        Widowed   \n",
       "4                    Doctorate Degree    Retired  18925.23        Married   \n",
       "5                     Master's Degree    Student  40074.19      Separated   \n",
       "...                               ...        ...       ...            ...   \n",
       "9996   Some College, Less than 1 Year    Retired  55723.74        Married   \n",
       "9997      Regular High School Diploma  Part Time       NaN       Divorced   \n",
       "9998      Nursery School to 8th Grade  Full Time       NaN  Never Married   \n",
       "9999                Bachelor's Degree  Full Time  16667.58      Separated   \n",
       "10000   GED or Alternative Credential  Full Time       NaN  Never Married   \n",
       "\n",
       "       Gender Churn  Outage_sec_perweek  Email  Contacts  \\\n",
       "1        Male    No            6.972566     10         0   \n",
       "2      Female   Yes           12.014541     12         0   \n",
       "3      Female    No           10.245616      9         0   \n",
       "4        Male    No           15.206193     15         2   \n",
       "5        Male   Yes            8.960316     16         2   \n",
       "...       ...   ...                 ...    ...       ...   \n",
       "9996     Male    No            9.265392     12         2   \n",
       "9997     Male    No            8.115849     15         2   \n",
       "9998   Female    No            4.837696     10         0   \n",
       "9999     Male    No           12.076460     14         1   \n",
       "10000    Male    No           12.641760     17         1   \n",
       "\n",
       "       Yearly_equip_failure Techie        Contract Port_modem Tablet  \\\n",
       "1                         1     No        One year        Yes    Yes   \n",
       "2                         1    Yes  Month-to-month         No    Yes   \n",
       "3                         1    Yes        Two Year        Yes     No   \n",
       "4                         0    Yes        Two Year         No     No   \n",
       "5                         1     No  Month-to-month        Yes     No   \n",
       "...                     ...    ...             ...        ...    ...   \n",
       "9996                      0    NaN  Month-to-month        Yes    Yes   \n",
       "9997                      0    NaN        Two Year         No     No   \n",
       "9998                      0     No  Month-to-month         No     No   \n",
       "9999                      0     No        Two Year         No    Yes   \n",
       "10000                     0    NaN  Month-to-month        Yes     No   \n",
       "\n",
       "      InternetService Phone Multiple OnlineSecurity OnlineBackup  \\\n",
       "1         Fiber Optic   Yes       No            Yes          Yes   \n",
       "2         Fiber Optic   Yes      Yes            Yes           No   \n",
       "3                 DSL   Yes      Yes             No           No   \n",
       "4                 DSL   Yes       No            Yes           No   \n",
       "5         Fiber Optic    No       No             No           No   \n",
       "...               ...   ...      ...            ...          ...   \n",
       "9996              DSL   NaN      Yes             No          Yes   \n",
       "9997      Fiber Optic   NaN      Yes            Yes          Yes   \n",
       "9998      Fiber Optic   Yes      Yes            Yes          Yes   \n",
       "9999      Fiber Optic    No      Yes             No           No   \n",
       "10000     Fiber Optic   Yes      Yes            Yes          Yes   \n",
       "\n",
       "      DeviceProtection TechSupport StreamingTV StreamingMovies  \\\n",
       "1                   No          No          No             Yes   \n",
       "2                   No          No         Yes             Yes   \n",
       "3                   No          No          No             Yes   \n",
       "4                   No          No         Yes              No   \n",
       "5                   No         Yes         Yes              No   \n",
       "...                ...         ...         ...             ...   \n",
       "9996               Yes          No          No              No   \n",
       "9997               Yes          No         Yes              No   \n",
       "9998                No          No          No              No   \n",
       "9999                No         Yes         Yes             Yes   \n",
       "10000              Yes          No          No             Yes   \n",
       "\n",
       "      PaperlessBilling             PaymentMethod     Tenure  MonthlyCharge  \\\n",
       "1                  Yes   Credit Card (automatic)   6.795513     171.449762   \n",
       "2                  Yes  Bank Transfer(automatic)   1.156681     242.948015   \n",
       "3                  Yes   Credit Card (automatic)  15.754144     159.440398   \n",
       "4                  Yes              Mailed Check  17.087227     120.249493   \n",
       "5                   No              Mailed Check   1.670972     150.761216   \n",
       "...                ...                       ...        ...            ...   \n",
       "9996                No          Electronic Check  68.197130     159.828800   \n",
       "9997                No          Electronic Check  61.040370     208.856400   \n",
       "9998               Yes  Bank Transfer(automatic)        NaN     168.220900   \n",
       "9999               Yes   Credit Card (automatic)  71.095600     252.628600   \n",
       "10000              Yes          Electronic Check  63.350860     218.371000   \n",
       "\n",
       "       Bandwidth_GB_Year  item1  item2  item3  item4  item5  item6  item7  \\\n",
       "1             904.536110      5      5      5      3      4      4      3   \n",
       "2             800.982766      3      4      3      3      4      3      4   \n",
       "3            2054.706961      4      4      2      4      4      3      3   \n",
       "4            2164.579412      4      4      4      2      5      4      3   \n",
       "5             271.493436      4      4      4      3      4      4      4   \n",
       "...                  ...    ...    ...    ...    ...    ...    ...    ...   \n",
       "9996         6511.253000      3      2      3      3      4      3      2   \n",
       "9997         5695.952000      4      5      5      4      4      5      2   \n",
       "9998         4159.306000      4      4      4      4      4      4      4   \n",
       "9999         6468.457000      4      4      6      4      3      3      5   \n",
       "10000        5857.586000      2      2      3      3      3      3      4   \n",
       "\n",
       "       item8  \n",
       "1          4  \n",
       "2          4  \n",
       "3          3  \n",
       "4          3  \n",
       "5          5  \n",
       "...      ...  \n",
       "9996       3  \n",
       "9997       5  \n",
       "9998       5  \n",
       "9999       4  \n",
       "10000      1  \n",
       "\n",
       "[10000 rows x 51 columns]"
      ]
     },
     "execution_count": 4,
     "metadata": {},
     "output_type": "execute_result"
    }
   ],
   "source": [
    "# this allows me to see all the columns when I run my dataset.\n",
    "pd.set_option(\"display.max_columns\", None)\n",
    "# running my dataset to inspect visually for areas of concern\n",
    "cd"
   ]
  },
  {
   "cell_type": "code",
   "execution_count": 5,
   "id": "cb061285",
   "metadata": {},
   "outputs": [
    {
     "data": {
      "text/plain": [
       "10000"
      ]
     },
     "execution_count": 5,
     "metadata": {},
     "output_type": "execute_result"
    }
   ],
   "source": [
    "#Checking CaseOrder for 10,000 unique responses.\n",
    "cd.CaseOrder.nunique()"
   ]
  },
  {
   "cell_type": "code",
   "execution_count": 6,
   "id": "efdce8a8",
   "metadata": {},
   "outputs": [
    {
     "data": {
      "text/plain": [
       "10000"
      ]
     },
     "execution_count": 6,
     "metadata": {},
     "output_type": "execute_result"
    }
   ],
   "source": [
    "#Checking Customer_id for 10,000 unique responses.\n",
    "cd.Customer_id.nunique()"
   ]
  },
  {
   "cell_type": "code",
   "execution_count": 7,
   "id": "4f179fbb",
   "metadata": {},
   "outputs": [
    {
     "data": {
      "text/plain": [
       "10000"
      ]
     },
     "execution_count": 7,
     "metadata": {},
     "output_type": "execute_result"
    }
   ],
   "source": [
    "#Checking Interaction for 10,000 unique responses.\n",
    "cd.Interaction.nunique()"
   ]
  },
  {
   "cell_type": "code",
   "execution_count": 8,
   "id": "fac47ac5",
   "metadata": {},
   "outputs": [
    {
     "data": {
      "text/plain": [
       "Houston         34\n",
       "New York        24\n",
       "Springfield     23\n",
       "Buffalo         23\n",
       "San Antonio     22\n",
       "                ..\n",
       "Cottontown       1\n",
       "San Dimas        1\n",
       "Fort Hill        1\n",
       "Webster          1\n",
       "Clarkesville     1\n",
       "Name: City, Length: 6058, dtype: int64"
      ]
     },
     "execution_count": 8,
     "metadata": {},
     "output_type": "execute_result"
    }
   ],
   "source": [
    "#Checking the count of each value for City, done for completionism as does not give much useful information and the null values are more important for this coulumn. \n",
    "cd.City.value_counts()"
   ]
  },
  {
   "cell_type": "code",
   "execution_count": 9,
   "id": "880ea569",
   "metadata": {},
   "outputs": [
    {
     "data": {
      "text/plain": [
       "52"
      ]
     },
     "execution_count": 9,
     "metadata": {},
     "output_type": "execute_result"
    }
   ],
   "source": [
    "#Checking to make sure State does not have more than 50.\n",
    "cd.State.nunique()"
   ]
  },
  {
   "cell_type": "code",
   "execution_count": 10,
   "id": "58ea6970",
   "metadata": {},
   "outputs": [
    {
     "data": {
      "text/plain": [
       "TX    603\n",
       "NY    558\n",
       "PA    550\n",
       "CA    526\n",
       "IL    413\n",
       "OH    359\n",
       "FL    324\n",
       "MO    310\n",
       "VA    285\n",
       "NC    280\n",
       "IA    279\n",
       "MI    279\n",
       "MN    264\n",
       "WV    247\n",
       "IN    241\n",
       "GA    238\n",
       "KY    238\n",
       "WI    228\n",
       "OK    203\n",
       "KS    195\n",
       "NJ    190\n",
       "TN    185\n",
       "AL    181\n",
       "NE    181\n",
       "AR    176\n",
       "WA    175\n",
       "MA    172\n",
       "CO    155\n",
       "LA    141\n",
       "MS    126\n",
       "SC    124\n",
       "MD    123\n",
       "ND    118\n",
       "NM    114\n",
       "OR    114\n",
       "AZ    112\n",
       "ME    112\n",
       "SD    101\n",
       "MT     96\n",
       "NH     85\n",
       "VT     84\n",
       "ID     81\n",
       "AK     77\n",
       "CT     71\n",
       "UT     66\n",
       "NV     48\n",
       "WY     43\n",
       "PR     40\n",
       "HI     35\n",
       "DE     21\n",
       "RI     19\n",
       "DC     14\n",
       "Name: State, dtype: int64"
      ]
     },
     "execution_count": 10,
     "metadata": {},
     "output_type": "execute_result"
    }
   ],
   "source": [
    "#Checking the value counts for State to see why they have more than 50 unique States.\n",
    "cd.State.value_counts()"
   ]
  },
  {
   "cell_type": "code",
   "execution_count": 11,
   "id": "97e15214",
   "metadata": {},
   "outputs": [],
   "source": [
    "#The reason State has more than 50 is because it includes DC and PR, which I am assuming stand for Washington D.C. and Puerto Rico."
   ]
  },
  {
   "cell_type": "code",
   "execution_count": 12,
   "id": "cdc8209d",
   "metadata": {},
   "outputs": [
    {
     "data": {
      "text/plain": [
       "Washington     111\n",
       "Jefferson      100\n",
       "Montgomery      99\n",
       "Franklin        92\n",
       "Los Angeles     91\n",
       "              ... \n",
       "Rooks            1\n",
       "Cochise          1\n",
       "Yauco            1\n",
       "Hoke             1\n",
       "Briscoe          1\n",
       "Name: County, Length: 1620, dtype: int64"
      ]
     },
     "execution_count": 12,
     "metadata": {},
     "output_type": "execute_result"
    }
   ],
   "source": [
    "#Checking the count of each value for County, done for completionism as does not give much useful information and the null values are more important for this coulumn. \n",
    "cd.County.value_counts()"
   ]
  },
  {
   "cell_type": "code",
   "execution_count": 13,
   "id": "48cd742d",
   "metadata": {},
   "outputs": [
    {
     "data": {
      "text/plain": [
       "32340    4\n",
       "75077    4\n",
       "44310    4\n",
       "61764    4\n",
       "16115    4\n",
       "        ..\n",
       "43788    1\n",
       "58579    1\n",
       "53526    1\n",
       "79104    1\n",
       "30523    1\n",
       "Name: Zip, Length: 8583, dtype: int64"
      ]
     },
     "execution_count": 13,
     "metadata": {},
     "output_type": "execute_result"
    }
   ],
   "source": [
    "#Checking the count of each value for Zip, done for completionism as does not give much useful information and the null values are more important for this coulumn and I noticed an issue when inspecting visually that I believe is leading 0's being dropped off. \n",
    "cd.Zip.value_counts()"
   ]
  },
  {
   "cell_type": "code",
   "execution_count": 14,
   "id": "19250230",
   "metadata": {},
   "outputs": [
    {
     "data": {
      "text/plain": [
       "count    10000.000000\n",
       "mean        38.757567\n",
       "std          5.437389\n",
       "min         17.966120\n",
       "25%         35.341828\n",
       "50%         39.395800\n",
       "75%         42.106908\n",
       "max         70.640660\n",
       "Name: Lat, dtype: float64"
      ]
     },
     "execution_count": 14,
     "metadata": {},
     "output_type": "execute_result"
    }
   ],
   "source": [
    "#Checking Lat for outliers and datatype fit.\n",
    "cd.Lat.describe()"
   ]
  },
  {
   "cell_type": "code",
   "execution_count": 15,
   "id": "35617f7a",
   "metadata": {},
   "outputs": [],
   "source": [
    "#The min and max for Lat both are identified as outliers according to z-values, but both are valid because of customers in Alaska and Puerto Rico. "
   ]
  },
  {
   "cell_type": "code",
   "execution_count": 16,
   "id": "0a0a7e5d",
   "metadata": {},
   "outputs": [
    {
     "data": {
      "text/plain": [
       "count    10000.000000\n",
       "mean       -90.782536\n",
       "std         15.156142\n",
       "min       -171.688150\n",
       "25%        -97.082812\n",
       "50%        -87.918800\n",
       "75%        -80.088745\n",
       "max        -65.667850\n",
       "Name: Lng, dtype: float64"
      ]
     },
     "execution_count": 16,
     "metadata": {},
     "output_type": "execute_result"
    }
   ],
   "source": [
    "#Checking Lng for outliers and datatype fit.\n",
    "cd.Lng.describe()"
   ]
  },
  {
   "cell_type": "code",
   "execution_count": 17,
   "id": "998151a4",
   "metadata": {},
   "outputs": [],
   "source": [
    "#The min for Lng is identified as an outliers according to z-values, but is valid because of customers in Alaska. "
   ]
  },
  {
   "cell_type": "code",
   "execution_count": 18,
   "id": "068c3e46",
   "metadata": {},
   "outputs": [
    {
     "data": {
      "text/plain": [
       "count     10000.000000\n",
       "mean       9756.562400\n",
       "std       14432.698671\n",
       "min           0.000000\n",
       "25%         738.000000\n",
       "50%        2910.500000\n",
       "75%       13168.000000\n",
       "max      111850.000000\n",
       "Name: Population, dtype: float64"
      ]
     },
     "execution_count": 18,
     "metadata": {},
     "output_type": "execute_result"
    }
   ],
   "source": [
    "#Checking Population for outliers and datatype fit.\n",
    "cd.Population.describe()"
   ]
  },
  {
   "cell_type": "code",
   "execution_count": 19,
   "id": "51162a82",
   "metadata": {},
   "outputs": [],
   "source": [
    "#The max for Population is identified as an outliers according to z-values, but is valid because of customers living in big cities could have that many people within a mile radius. "
   ]
  },
  {
   "cell_type": "code",
   "execution_count": 20,
   "id": "5576d617",
   "metadata": {},
   "outputs": [
    {
     "data": {
      "text/plain": [
       "Suburban    3346\n",
       "Urban       3327\n",
       "Rural       3327\n",
       "Name: Area, dtype: int64"
      ]
     },
     "execution_count": 20,
     "metadata": {},
     "output_type": "execute_result"
    }
   ],
   "source": [
    "#Checking Area for values stated in the data dictionary.\n",
    "cd.Area.value_counts()"
   ]
  },
  {
   "cell_type": "code",
   "execution_count": 21,
   "id": "87618883",
   "metadata": {},
   "outputs": [
    {
     "data": {
      "text/plain": [
       "America/New_York                  4072\n",
       "America/Chicago                   3672\n",
       "America/Los_Angeles                887\n",
       "America/Denver                     552\n",
       "America/Detroit                    265\n",
       "America/Indiana/Indianapolis       186\n",
       "America/Phoenix                    104\n",
       "America/Boise                       57\n",
       "America/Anchorage                   55\n",
       "America/Puerto_Rico                 40\n",
       "Pacific/Honolulu                    35\n",
       "America/Menominee                   16\n",
       "America/Nome                        12\n",
       "America/Kentucky/Louisville         10\n",
       "America/Sitka                        8\n",
       "America/Indiana/Vincennes            6\n",
       "America/Indiana/Tell_City            6\n",
       "America/Toronto                      5\n",
       "America/Indiana/Petersburg           4\n",
       "America/Juneau                       2\n",
       "America/North_Dakota/New_Salem       2\n",
       "America/Indiana/Knox                 1\n",
       "America/Indiana/Winamac              1\n",
       "America/Indiana/Marengo              1\n",
       "America/Ojinaga                      1\n",
       "Name: Timezone, dtype: int64"
      ]
     },
     "execution_count": 21,
     "metadata": {},
     "output_type": "execute_result"
    }
   ],
   "source": [
    "#Checking Timezone for value counts and datatype fit.\n",
    "cd.Timezone.value_counts()"
   ]
  },
  {
   "cell_type": "code",
   "execution_count": 22,
   "id": "fd5a649a",
   "metadata": {},
   "outputs": [],
   "source": [
    "#Timezone should be condensed into the proper time zone's name."
   ]
  },
  {
   "cell_type": "code",
   "execution_count": 23,
   "id": "16477c95",
   "metadata": {},
   "outputs": [
    {
     "data": {
      "text/plain": [
       "Occupational psychologist               30\n",
       "Comptroller                             28\n",
       "Hospital pharmacist                     28\n",
       "Horticultural therapist                 28\n",
       "Ranger/warden                           27\n",
       "                                        ..\n",
       "Control and instrumentation engineer     6\n",
       "Travel agency manager                    6\n",
       "Accountant, chartered certified          6\n",
       "Arboriculturist                          6\n",
       "Toxicologist                             6\n",
       "Name: Job, Length: 639, dtype: int64"
      ]
     },
     "execution_count": 23,
     "metadata": {},
     "output_type": "execute_result"
    }
   ],
   "source": [
    "#Checking the count of each value for Job, done for completionism as does not give much useful information and the null values are more important for this coulumn.\n",
    "cd.Job.value_counts()"
   ]
  },
  {
   "cell_type": "code",
   "execution_count": 24,
   "id": "27a4d048",
   "metadata": {},
   "outputs": [
    {
     "data": {
      "text/plain": [
       "count    7505.000000\n",
       "mean        2.095936\n",
       "std         2.154758\n",
       "min         0.000000\n",
       "25%         0.000000\n",
       "50%         1.000000\n",
       "75%         3.000000\n",
       "max        10.000000\n",
       "Name: Children, dtype: float64"
      ]
     },
     "execution_count": 24,
     "metadata": {},
     "output_type": "execute_result"
    }
   ],
   "source": [
    "#Checking Children for outliers and datatype fit.\n",
    "cd.Children.describe()"
   ]
  },
  {
   "cell_type": "code",
   "execution_count": 25,
   "id": "5ec9073f",
   "metadata": {},
   "outputs": [],
   "source": [
    "#The max for Children is identified as an outliers according to z-values, but is valid because ten children is not unreasonable. Also, the datatype is not a good fit because you can not have fractions of a person. The null values here need to be addressed."
   ]
  },
  {
   "cell_type": "code",
   "execution_count": 26,
   "id": "c11760c3",
   "metadata": {},
   "outputs": [
    {
     "data": {
      "text/plain": [
       "count    7525.000000\n",
       "mean       53.275748\n",
       "std        20.753928\n",
       "min        18.000000\n",
       "25%        35.000000\n",
       "50%        53.000000\n",
       "75%        71.000000\n",
       "max        89.000000\n",
       "Name: Age, dtype: float64"
      ]
     },
     "execution_count": 26,
     "metadata": {},
     "output_type": "execute_result"
    }
   ],
   "source": [
    "#Checking Age for outliers and datatype fit.\n",
    "cd.Age.describe()"
   ]
  },
  {
   "cell_type": "code",
   "execution_count": 27,
   "id": "aa3a9010",
   "metadata": {},
   "outputs": [],
   "source": [
    "#The datatype is not a good fit. The null values here need to be addressed."
   ]
  },
  {
   "cell_type": "code",
   "execution_count": 28,
   "id": "2315cd8e",
   "metadata": {},
   "outputs": [
    {
     "data": {
      "text/plain": [
       "Regular High School Diploma                 2421\n",
       "Bachelor's Degree                           1703\n",
       "Some College, 1 or More Years, No Degree    1562\n",
       "9th Grade to 12th Grade, No Diploma          870\n",
       "Master's Degree                              764\n",
       "Associate's Degree                           760\n",
       "Some College, Less than 1 Year               652\n",
       "Nursery School to 8th Grade                  449\n",
       "GED or Alternative Credential                387\n",
       "Professional School Degree                   198\n",
       "No Schooling Completed                       118\n",
       "Doctorate Degree                             116\n",
       "Name: Education, dtype: int64"
      ]
     },
     "execution_count": 28,
     "metadata": {},
     "output_type": "execute_result"
    }
   ],
   "source": [
    "#Checking Education for value counts and datatype fit.\n",
    "cd.Education.value_counts()"
   ]
  },
  {
   "cell_type": "code",
   "execution_count": 29,
   "id": "9ff693db",
   "metadata": {},
   "outputs": [
    {
     "data": {
      "text/plain": [
       "Full Time     5992\n",
       "Part Time     1042\n",
       "Retired       1011\n",
       "Unemployed     991\n",
       "Student        964\n",
       "Name: Employment, dtype: int64"
      ]
     },
     "execution_count": 29,
     "metadata": {},
     "output_type": "execute_result"
    }
   ],
   "source": [
    "#Checking Employment for value counts and datatype fit.\n",
    "cd.Employment.value_counts()"
   ]
  },
  {
   "cell_type": "code",
   "execution_count": 30,
   "id": "5b06709c",
   "metadata": {},
   "outputs": [
    {
     "data": {
      "text/plain": [
       "count      7510.000000\n",
       "mean      39936.762226\n",
       "std       28358.469482\n",
       "min         740.660000\n",
       "25%       19285.522500\n",
       "50%       33186.785000\n",
       "75%       53472.395000\n",
       "max      258900.700000\n",
       "Name: Income, dtype: float64"
      ]
     },
     "execution_count": 30,
     "metadata": {},
     "output_type": "execute_result"
    }
   ],
   "source": [
    "#Checking Income for outliers and datatype fit.\n",
    "cd.Income.describe()"
   ]
  },
  {
   "cell_type": "code",
   "execution_count": 31,
   "id": "f1684489",
   "metadata": {},
   "outputs": [],
   "source": [
    "#The max for Income is identified as an outliers according to z-values, but is valid because people make that level of income. Also, the datatype is not a good fit."
   ]
  },
  {
   "cell_type": "code",
   "execution_count": 32,
   "id": "dd7ec392",
   "metadata": {},
   "outputs": [
    {
     "data": {
      "text/plain": [
       "Divorced         2092\n",
       "Widowed          2027\n",
       "Separated        2014\n",
       "Never Married    1956\n",
       "Married          1911\n",
       "Name: Marital, dtype: int64"
      ]
     },
     "execution_count": 32,
     "metadata": {},
     "output_type": "execute_result"
    }
   ],
   "source": [
    "#Checking Marital for value counts and datatype fit.\n",
    "cd.Marital.value_counts()"
   ]
  },
  {
   "cell_type": "code",
   "execution_count": 33,
   "id": "730d6698",
   "metadata": {},
   "outputs": [
    {
     "data": {
      "text/plain": [
       "Female                  5025\n",
       "Male                    4744\n",
       "Prefer not to answer     231\n",
       "Name: Gender, dtype: int64"
      ]
     },
     "execution_count": 33,
     "metadata": {},
     "output_type": "execute_result"
    }
   ],
   "source": [
    "#Checking Gender for value counts and datatype fit.\n",
    "cd.Gender.value_counts()"
   ]
  },
  {
   "cell_type": "code",
   "execution_count": 34,
   "id": "105469d5",
   "metadata": {},
   "outputs": [],
   "source": [
    "#Values do not reflect the values stated in the data dictionary."
   ]
  },
  {
   "cell_type": "code",
   "execution_count": 35,
   "id": "d7da0e5f",
   "metadata": {},
   "outputs": [
    {
     "data": {
      "text/plain": [
       "No     7350\n",
       "Yes    2650\n",
       "Name: Churn, dtype: int64"
      ]
     },
     "execution_count": 35,
     "metadata": {},
     "output_type": "execute_result"
    }
   ],
   "source": [
    "#Checking Churn for value counts and datatype fit.\n",
    "cd.Churn.value_counts()"
   ]
  },
  {
   "cell_type": "code",
   "execution_count": 36,
   "id": "dba2ff7e",
   "metadata": {},
   "outputs": [
    {
     "data": {
      "text/plain": [
       "count    10000.000000\n",
       "mean        11.452955\n",
       "std          7.025921\n",
       "min         -1.348571\n",
       "25%          8.054362\n",
       "50%         10.202896\n",
       "75%         12.487644\n",
       "max         47.049280\n",
       "Name: Outage_sec_perweek, dtype: float64"
      ]
     },
     "execution_count": 36,
     "metadata": {},
     "output_type": "execute_result"
    }
   ],
   "source": [
    "#Checking Outage_sec_perweek for outliers and datatype fit.\n",
    "cd.Outage_sec_perweek.describe()"
   ]
  },
  {
   "cell_type": "code",
   "execution_count": 37,
   "id": "85ee69d5",
   "metadata": {},
   "outputs": [
    {
     "data": {
      "text/plain": [
       "4168   -1.348571\n",
       "1905   -1.195428\n",
       "4428   -1.099934\n",
       "6094   -0.787115\n",
       "6578   -0.527396\n",
       "4185   -0.352431\n",
       "1998   -0.339214\n",
       "8195   -0.214328\n",
       "3070   -0.206145\n",
       "3630   -0.152845\n",
       "6464   -0.144644\n",
       "7340    0.113821\n",
       "909     0.169351\n",
       "4698    0.278712\n",
       "7071    0.359073\n",
       "Name: Outage_sec_perweek, dtype: float64"
      ]
     },
     "execution_count": 37,
     "metadata": {},
     "output_type": "execute_result"
    }
   ],
   "source": [
    "#Negative values should not exist for this as the lowest average system outage would be 0. Checking to see if they have multiple with this issue.\n",
    "cd.Outage_sec_perweek.nsmallest(n=15)"
   ]
  },
  {
   "cell_type": "code",
   "execution_count": 38,
   "id": "556365d5",
   "metadata": {},
   "outputs": [],
   "source": [
    "#The max for Outage_sec_perweek is identified as an outliers according to z-values, but is valid because an average of 47 seconds a week is not unreasonable for an outage. Also, the datatype is not a good fit."
   ]
  },
  {
   "cell_type": "code",
   "execution_count": 39,
   "id": "02468c7e",
   "metadata": {},
   "outputs": [
    {
     "data": {
      "text/plain": [
       "count    10000.000000\n",
       "mean        12.016000\n",
       "std          3.025898\n",
       "min          1.000000\n",
       "25%         10.000000\n",
       "50%         12.000000\n",
       "75%         14.000000\n",
       "max         23.000000\n",
       "Name: Email, dtype: float64"
      ]
     },
     "execution_count": 39,
     "metadata": {},
     "output_type": "execute_result"
    }
   ],
   "source": [
    "#Checking Email for outliers and datatype fit.\n",
    "cd.Email.describe()"
   ]
  },
  {
   "cell_type": "code",
   "execution_count": 40,
   "id": "d9cc9e3e",
   "metadata": {},
   "outputs": [],
   "source": [
    "#The min and max for Email both are identified as outliers according to z-values, but both are valid because of some customers needing more correspondence and some may request to be email as least as possible. Datatype can be changed to be more efficent."
   ]
  },
  {
   "cell_type": "code",
   "execution_count": 41,
   "id": "3ac3ed7f",
   "metadata": {},
   "outputs": [
    {
     "data": {
      "text/plain": [
       "count    10000.000000\n",
       "mean         0.994200\n",
       "std          0.988466\n",
       "min          0.000000\n",
       "25%          0.000000\n",
       "50%          1.000000\n",
       "75%          2.000000\n",
       "max          7.000000\n",
       "Name: Contacts, dtype: float64"
      ]
     },
     "execution_count": 41,
     "metadata": {},
     "output_type": "execute_result"
    }
   ],
   "source": [
    "#Checking Contacts for outliers and datatype fit.\n",
    "cd.Contacts.describe()"
   ]
  },
  {
   "cell_type": "code",
   "execution_count": 42,
   "id": "3c370a48",
   "metadata": {},
   "outputs": [],
   "source": [
    "#The max for Contacts is identified as outliers according to z-values, but is a reasonable amount to contact technical support. Datatype is not a good fit."
   ]
  },
  {
   "cell_type": "code",
   "execution_count": 43,
   "id": "74802a36",
   "metadata": {},
   "outputs": [
    {
     "data": {
      "text/plain": [
       "count    10000.000000\n",
       "mean         0.398000\n",
       "std          0.635953\n",
       "min          0.000000\n",
       "25%          0.000000\n",
       "50%          0.000000\n",
       "75%          1.000000\n",
       "max          6.000000\n",
       "Name: Yearly_equip_failure, dtype: float64"
      ]
     },
     "execution_count": 43,
     "metadata": {},
     "output_type": "execute_result"
    }
   ],
   "source": [
    "#Checking Yearly_equip_failure for outliers and datatype fit.\n",
    "cd.Yearly_equip_failure.describe()"
   ]
  },
  {
   "cell_type": "code",
   "execution_count": 44,
   "id": "aa0dd364",
   "metadata": {},
   "outputs": [],
   "source": [
    "#The max for Yearly_equip_failure is identified as outliers according to z-values, but is a reasonable amount to of failed equipment in a year. Datatype is not a good fit."
   ]
  },
  {
   "cell_type": "code",
   "execution_count": 45,
   "id": "a6601220",
   "metadata": {},
   "outputs": [
    {
     "data": {
      "text/plain": [
       "No     6266\n",
       "Yes    1257\n",
       "Name: Techie, dtype: int64"
      ]
     },
     "execution_count": 45,
     "metadata": {},
     "output_type": "execute_result"
    }
   ],
   "source": [
    "#Checking Techie for value counts and datatype fit.\n",
    "cd.Techie.value_counts()"
   ]
  },
  {
   "cell_type": "code",
   "execution_count": 46,
   "id": "a62dfa1a",
   "metadata": {},
   "outputs": [],
   "source": [
    "#Null values need to be looked into"
   ]
  },
  {
   "cell_type": "code",
   "execution_count": 47,
   "id": "c1b142b4",
   "metadata": {},
   "outputs": [
    {
     "data": {
      "text/plain": [
       "Month-to-month    5456\n",
       "Two Year          2442\n",
       "One year          2102\n",
       "Name: Contract, dtype: int64"
      ]
     },
     "execution_count": 47,
     "metadata": {},
     "output_type": "execute_result"
    }
   ],
   "source": [
    "#Checking Contract for value counts and datatype fit.\n",
    "cd.Contract.value_counts()"
   ]
  },
  {
   "cell_type": "code",
   "execution_count": 48,
   "id": "79887fdf",
   "metadata": {},
   "outputs": [
    {
     "data": {
      "text/plain": [
       "No     5166\n",
       "Yes    4834\n",
       "Name: Port_modem, dtype: int64"
      ]
     },
     "execution_count": 48,
     "metadata": {},
     "output_type": "execute_result"
    }
   ],
   "source": [
    "#Checking Port_modem for value counts and datatype fit.\n",
    "cd.Port_modem.value_counts()"
   ]
  },
  {
   "cell_type": "code",
   "execution_count": 49,
   "id": "ba2f334a",
   "metadata": {},
   "outputs": [
    {
     "data": {
      "text/plain": [
       "No     7009\n",
       "Yes    2991\n",
       "Name: Tablet, dtype: int64"
      ]
     },
     "execution_count": 49,
     "metadata": {},
     "output_type": "execute_result"
    }
   ],
   "source": [
    "#Checking Tablet for value counts and datatype fit.\n",
    "cd.Tablet.value_counts()"
   ]
  },
  {
   "cell_type": "code",
   "execution_count": 50,
   "id": "37f4382f",
   "metadata": {},
   "outputs": [
    {
     "data": {
      "text/plain": [
       "Fiber Optic    4408\n",
       "DSL            3463\n",
       "None           2129\n",
       "Name: InternetService, dtype: int64"
      ]
     },
     "execution_count": 50,
     "metadata": {},
     "output_type": "execute_result"
    }
   ],
   "source": [
    "#Checking InternetService for value counts and datatype fit.\n",
    "cd.InternetService.value_counts()"
   ]
  },
  {
   "cell_type": "code",
   "execution_count": 51,
   "id": "ff2c1567",
   "metadata": {},
   "outputs": [
    {
     "data": {
      "text/plain": [
       "Yes    8128\n",
       "No      846\n",
       "Name: Phone, dtype: int64"
      ]
     },
     "execution_count": 51,
     "metadata": {},
     "output_type": "execute_result"
    }
   ],
   "source": [
    "#Checking Phone for value counts and datatype fit.\n",
    "cd.Phone.value_counts()"
   ]
  },
  {
   "cell_type": "code",
   "execution_count": 52,
   "id": "ebe93524",
   "metadata": {},
   "outputs": [
    {
     "data": {
      "text/plain": [
       "No     5392\n",
       "Yes    4608\n",
       "Name: Multiple, dtype: int64"
      ]
     },
     "execution_count": 52,
     "metadata": {},
     "output_type": "execute_result"
    }
   ],
   "source": [
    "#Checking Multiple for value counts and datatype fit.\n",
    "cd.Multiple.value_counts()"
   ]
  },
  {
   "cell_type": "code",
   "execution_count": 53,
   "id": "f8ecc201",
   "metadata": {},
   "outputs": [
    {
     "data": {
      "text/plain": [
       "No     6424\n",
       "Yes    3576\n",
       "Name: OnlineSecurity, dtype: int64"
      ]
     },
     "execution_count": 53,
     "metadata": {},
     "output_type": "execute_result"
    }
   ],
   "source": [
    "#Checking OnlineSecurity for value counts and datatype fit.\n",
    "cd.OnlineSecurity.value_counts()"
   ]
  },
  {
   "cell_type": "code",
   "execution_count": 54,
   "id": "209d82a9",
   "metadata": {},
   "outputs": [
    {
     "data": {
      "text/plain": [
       "No     5614\n",
       "Yes    4386\n",
       "Name: DeviceProtection, dtype: int64"
      ]
     },
     "execution_count": 54,
     "metadata": {},
     "output_type": "execute_result"
    }
   ],
   "source": [
    "#Checking DeviceProtection for value counts and datatype fit.\n",
    "cd.DeviceProtection.value_counts()"
   ]
  },
  {
   "cell_type": "code",
   "execution_count": 55,
   "id": "f311a95e",
   "metadata": {},
   "outputs": [
    {
     "data": {
      "text/plain": [
       "No     5635\n",
       "Yes    3374\n",
       "Name: TechSupport, dtype: int64"
      ]
     },
     "execution_count": 55,
     "metadata": {},
     "output_type": "execute_result"
    }
   ],
   "source": [
    "#Checking TechSupport for value counts and datatype fit.\n",
    "cd.TechSupport.value_counts()"
   ]
  },
  {
   "cell_type": "code",
   "execution_count": 56,
   "id": "8b8826a0",
   "metadata": {},
   "outputs": [
    {
     "data": {
      "text/plain": [
       "No     5071\n",
       "Yes    4929\n",
       "Name: StreamingTV, dtype: int64"
      ]
     },
     "execution_count": 56,
     "metadata": {},
     "output_type": "execute_result"
    }
   ],
   "source": [
    "#Checking StreamingTV for value counts and datatype fit.\n",
    "cd.StreamingTV.value_counts()"
   ]
  },
  {
   "cell_type": "code",
   "execution_count": 57,
   "id": "68534a84",
   "metadata": {},
   "outputs": [
    {
     "data": {
      "text/plain": [
       "No     5110\n",
       "Yes    4890\n",
       "Name: StreamingMovies, dtype: int64"
      ]
     },
     "execution_count": 57,
     "metadata": {},
     "output_type": "execute_result"
    }
   ],
   "source": [
    "#Checking StreamingMovies for value counts and datatype fit.\n",
    "cd.StreamingMovies.value_counts()"
   ]
  },
  {
   "cell_type": "code",
   "execution_count": 58,
   "id": "18cf3c45",
   "metadata": {},
   "outputs": [
    {
     "data": {
      "text/plain": [
       "Yes    5882\n",
       "No     4118\n",
       "Name: PaperlessBilling, dtype: int64"
      ]
     },
     "execution_count": 58,
     "metadata": {},
     "output_type": "execute_result"
    }
   ],
   "source": [
    "#Checking PaperlessBilling for value counts and datatype fit.\n",
    "cd.PaperlessBilling.value_counts()"
   ]
  },
  {
   "cell_type": "code",
   "execution_count": 59,
   "id": "24082d17",
   "metadata": {},
   "outputs": [
    {
     "data": {
      "text/plain": [
       "Electronic Check            3398\n",
       "Mailed Check                2290\n",
       "Bank Transfer(automatic)    2229\n",
       "Credit Card (automatic)     2083\n",
       "Name: PaymentMethod, dtype: int64"
      ]
     },
     "execution_count": 59,
     "metadata": {},
     "output_type": "execute_result"
    }
   ],
   "source": [
    "#Checking PaymentMethod for value counts and datatype fit.\n",
    "cd.PaymentMethod.value_counts()"
   ]
  },
  {
   "cell_type": "code",
   "execution_count": 60,
   "id": "182e1530",
   "metadata": {},
   "outputs": [
    {
     "data": {
      "text/plain": [
       "count    9069.000000\n",
       "mean       34.498858\n",
       "std        26.438904\n",
       "min         1.000259\n",
       "25%         7.890442\n",
       "50%        36.196030\n",
       "75%        61.426670\n",
       "max        71.999280\n",
       "Name: Tenure, dtype: float64"
      ]
     },
     "execution_count": 60,
     "metadata": {},
     "output_type": "execute_result"
    }
   ],
   "source": [
    "#Checking Tenure for outliers and datatype fit.\n",
    "cd.Tenure.describe()"
   ]
  },
  {
   "cell_type": "code",
   "execution_count": 61,
   "id": "11d435ed",
   "metadata": {},
   "outputs": [],
   "source": [
    "#Datatype is not a good fit."
   ]
  },
  {
   "cell_type": "code",
   "execution_count": 62,
   "id": "0b845c78",
   "metadata": {},
   "outputs": [
    {
     "data": {
      "text/plain": [
       "count    10000.000000\n",
       "mean       174.076305\n",
       "std         43.335473\n",
       "min         77.505230\n",
       "25%        141.071078\n",
       "50%        169.915400\n",
       "75%        203.777441\n",
       "max        315.878600\n",
       "Name: MonthlyCharge, dtype: float64"
      ]
     },
     "execution_count": 62,
     "metadata": {},
     "output_type": "execute_result"
    }
   ],
   "source": [
    "#Checking MonthlyCharge for outliers and datatype fit.\n",
    "cd.MonthlyCharge.describe()"
   ]
  },
  {
   "cell_type": "code",
   "execution_count": 63,
   "id": "d764de53",
   "metadata": {},
   "outputs": [],
   "source": [
    "#The max for MonthlyCharge is identified as outliers according to z-values, but can be explained with the services and any overages that the company may charge. Datatype is not a good fit."
   ]
  },
  {
   "cell_type": "code",
   "execution_count": 64,
   "id": "076bc4c7",
   "metadata": {},
   "outputs": [
    {
     "data": {
      "text/plain": [
       "count    8979.000000\n",
       "mean     3398.842752\n",
       "std      2187.396807\n",
       "min       155.506715\n",
       "25%      1234.110529\n",
       "50%      3382.424000\n",
       "75%      5587.096500\n",
       "max      7158.982000\n",
       "Name: Bandwidth_GB_Year, dtype: float64"
      ]
     },
     "execution_count": 64,
     "metadata": {},
     "output_type": "execute_result"
    }
   ],
   "source": [
    "#Checking Bandwidth_GB_Year for outliers and datatype fit.\n",
    "cd.Bandwidth_GB_Year.describe()"
   ]
  },
  {
   "cell_type": "code",
   "execution_count": 65,
   "id": "9972186c",
   "metadata": {},
   "outputs": [
    {
     "data": {
      "text/plain": [
       "3    3448\n",
       "4    3358\n",
       "2    1393\n",
       "5    1359\n",
       "1     224\n",
       "6     199\n",
       "7      19\n",
       "Name: item1, dtype: int64"
      ]
     },
     "execution_count": 65,
     "metadata": {},
     "output_type": "execute_result"
    }
   ],
   "source": [
    "#Checking item1 for value counts and datatype fit.\n",
    "cd.item1.value_counts()"
   ]
  },
  {
   "cell_type": "code",
   "execution_count": 66,
   "id": "f665e5d6",
   "metadata": {},
   "outputs": [
    {
     "data": {
      "text/plain": [
       "3    3415\n",
       "4    3412\n",
       "5    1368\n",
       "2    1360\n",
       "1     217\n",
       "6     215\n",
       "7      13\n",
       "Name: item2, dtype: int64"
      ]
     },
     "execution_count": 66,
     "metadata": {},
     "output_type": "execute_result"
    }
   ],
   "source": [
    "#Checking item2 for value counts and datatype fit.\n",
    "cd.item2.value_counts()"
   ]
  },
  {
   "cell_type": "code",
   "execution_count": 67,
   "id": "879b99fe",
   "metadata": {},
   "outputs": [
    {
     "data": {
      "text/plain": [
       "3    3435\n",
       "4    3410\n",
       "2    1424\n",
       "5    1313\n",
       "6     203\n",
       "1     202\n",
       "7      12\n",
       "8       1\n",
       "Name: item3, dtype: int64"
      ]
     },
     "execution_count": 67,
     "metadata": {},
     "output_type": "execute_result"
    }
   ],
   "source": [
    "#Checking item3 for value counts and datatype fit.\n",
    "cd.item3.value_counts()"
   ]
  },
  {
   "cell_type": "code",
   "execution_count": 68,
   "id": "31d60909",
   "metadata": {},
   "outputs": [
    {
     "data": {
      "text/plain": [
       "4    3452\n",
       "3    3430\n",
       "2    1350\n",
       "5    1335\n",
       "1     221\n",
       "6     203\n",
       "7       9\n",
       "Name: item4, dtype: int64"
      ]
     },
     "execution_count": 68,
     "metadata": {},
     "output_type": "execute_result"
    }
   ],
   "source": [
    "#Checking item4 for value counts and datatype fit.\n",
    "cd.item4.value_counts()"
   ]
  },
  {
   "cell_type": "code",
   "execution_count": 69,
   "id": "c5d69741",
   "metadata": {},
   "outputs": [
    {
     "data": {
      "text/plain": [
       "3    3462\n",
       "4    3417\n",
       "2    1378\n",
       "5    1321\n",
       "1     206\n",
       "6     204\n",
       "7      12\n",
       "Name: item5, dtype: int64"
      ]
     },
     "execution_count": 69,
     "metadata": {},
     "output_type": "execute_result"
    }
   ],
   "source": [
    "#Checking item5 for value counts and datatype fit.\n",
    "cd.item5.value_counts()"
   ]
  },
  {
   "cell_type": "code",
   "execution_count": 70,
   "id": "01efab6d",
   "metadata": {},
   "outputs": [
    {
     "data": {
      "text/plain": [
       "3    3445\n",
       "4    3333\n",
       "2    1427\n",
       "5    1382\n",
       "6     210\n",
       "1     190\n",
       "7      12\n",
       "8       1\n",
       "Name: item6, dtype: int64"
      ]
     },
     "execution_count": 70,
     "metadata": {},
     "output_type": "execute_result"
    }
   ],
   "source": [
    "#Checking item6 for value counts and datatype fit.\n",
    "cd.item6.value_counts()"
   ]
  },
  {
   "cell_type": "code",
   "execution_count": 71,
   "id": "0d8067bd",
   "metadata": {},
   "outputs": [
    {
     "data": {
      "text/plain": [
       "4    3456\n",
       "3    3446\n",
       "5    1335\n",
       "2    1309\n",
       "6     224\n",
       "1     219\n",
       "7      11\n",
       "Name: item7, dtype: int64"
      ]
     },
     "execution_count": 71,
     "metadata": {},
     "output_type": "execute_result"
    }
   ],
   "source": [
    "#Checking item7 for value counts and datatype fit.\n",
    "cd.item7.value_counts()"
   ]
  },
  {
   "cell_type": "code",
   "execution_count": 72,
   "id": "e97d3051",
   "metadata": {},
   "outputs": [
    {
     "data": {
      "text/plain": [
       "3    3461\n",
       "4    3400\n",
       "2    1378\n",
       "5    1335\n",
       "1     206\n",
       "6     205\n",
       "7      14\n",
       "8       1\n",
       "Name: item8, dtype: int64"
      ]
     },
     "execution_count": 72,
     "metadata": {},
     "output_type": "execute_result"
    }
   ],
   "source": [
    "#Checking item8 for value counts and datatype fit.\n",
    "cd.item8.value_counts()"
   ]
  },
  {
   "cell_type": "code",
   "execution_count": null,
   "id": "a4275356",
   "metadata": {},
   "outputs": [],
   "source": []
  }
 ],
 "metadata": {
  "kernelspec": {
   "display_name": "Python 3 (ipykernel)",
   "language": "python",
   "name": "python3"
  },
  "language_info": {
   "codemirror_mode": {
    "name": "ipython",
    "version": 3
   },
   "file_extension": ".py",
   "mimetype": "text/x-python",
   "name": "python",
   "nbconvert_exporter": "python",
   "pygments_lexer": "ipython3",
   "version": "3.11.4"
  }
 },
 "nbformat": 4,
 "nbformat_minor": 5
}
