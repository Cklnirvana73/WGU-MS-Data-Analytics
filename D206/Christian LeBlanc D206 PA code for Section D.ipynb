{
 "cells": [
  {
   "cell_type": "code",
   "execution_count": 66,
   "id": "9e02b3e4",
   "metadata": {},
   "outputs": [],
   "source": [
    "import pandas as pd \n",
    "import numpy as np"
   ]
  },
  {
   "cell_type": "code",
   "execution_count": 67,
   "id": "c85a8629",
   "metadata": {},
   "outputs": [],
   "source": [
    "# Grabbing data from the csv file and telling Pandas that the data already contains an index column.\n",
    "cd = pd.read_csv(\"C:/Users/cklni/Desktop/WGU/D206/churn_raw_data.csv\", index_col= [0])"
   ]
  },
  {
   "cell_type": "code",
   "execution_count": 68,
   "id": "43553252",
   "metadata": {},
   "outputs": [],
   "source": [
    "#Imputing median for null values for Children\n",
    "cd[\"Children\"] = cd[\"Children\"].fillna(cd[\"Children\"].median())"
   ]
  },
  {
   "cell_type": "code",
   "execution_count": 69,
   "id": "653417c4",
   "metadata": {},
   "outputs": [],
   "source": [
    "#Imputing median for null values for Age\n",
    "cd[\"Age\"] = cd[\"Age\"].fillna(cd[\"Age\"].median())"
   ]
  },
  {
   "cell_type": "code",
   "execution_count": 70,
   "id": "d229ecd7",
   "metadata": {},
   "outputs": [],
   "source": [
    "#Imputing median for null values for Income\n",
    "cd[\"Income\"] = cd[\"Income\"].fillna(cd[\"Income\"].median())"
   ]
  },
  {
   "cell_type": "code",
   "execution_count": 71,
   "id": "a99d865a",
   "metadata": {},
   "outputs": [],
   "source": [
    "#Imputing median for null values for Tenure\n",
    "cd[\"Tenure\"] = cd[\"Tenure\"].fillna(cd[\"Tenure\"].median())"
   ]
  },
  {
   "cell_type": "code",
   "execution_count": 72,
   "id": "ee7c3ecb",
   "metadata": {},
   "outputs": [],
   "source": [
    "#Imputing median for null values for Bandwidth_GB_Year\n",
    "cd[\"Bandwidth_GB_Year\"] = cd[\"Bandwidth_GB_Year\"].fillna(cd[\"Bandwidth_GB_Year\"].median())"
   ]
  },
  {
   "cell_type": "code",
   "execution_count": 73,
   "id": "9758efb5",
   "metadata": {},
   "outputs": [],
   "source": [
    "#Imputing mode for null values for Techie\n",
    "cd[\"Techie\"] = cd[\"Techie\"].fillna(cd[\"Techie\"].mode())"
   ]
  },
  {
   "cell_type": "code",
   "execution_count": 74,
   "id": "1aa3ed93",
   "metadata": {},
   "outputs": [],
   "source": [
    "#Imputing mode for null values for Phone\n",
    "cd[\"Phone\"] = cd[\"Phone\"].fillna(cd[\"Phone\"].mode())"
   ]
  },
  {
   "cell_type": "code",
   "execution_count": 75,
   "id": "e18b695a",
   "metadata": {},
   "outputs": [],
   "source": [
    "#Imputing mode for null values for TechSupport\n",
    "cd[\"TechSupport\"] = cd[\"TechSupport\"].fillna(cd[\"TechSupport\"].mode())"
   ]
  },
  {
   "cell_type": "code",
   "execution_count": 76,
   "id": "9c9c59c2",
   "metadata": {},
   "outputs": [],
   "source": [
    "#Chaning Zip column's datatype to strings and requiring it have 5 characters\n",
    "cd['Zip'] = cd['Zip'].astype(\"str\").str.zfill(5)"
   ]
  },
  {
   "cell_type": "code",
   "execution_count": 77,
   "id": "a050aacc",
   "metadata": {},
   "outputs": [],
   "source": [
    "#Chaning Area column's datatype to category\n",
    "cd['Area'] = cd['Area'].astype(\"category\")"
   ]
  },
  {
   "cell_type": "code",
   "execution_count": 78,
   "id": "3241747c",
   "metadata": {},
   "outputs": [
    {
     "data": {
      "text/plain": [
       "America/New_York                  4072\n",
       "America/Chicago                   3672\n",
       "America/Los_Angeles                887\n",
       "America/Denver                     552\n",
       "America/Detroit                    265\n",
       "America/Indiana/Indianapolis       186\n",
       "America/Phoenix                    104\n",
       "America/Boise                       57\n",
       "America/Anchorage                   55\n",
       "America/Puerto_Rico                 40\n",
       "Pacific/Honolulu                    35\n",
       "America/Menominee                   16\n",
       "America/Nome                        12\n",
       "America/Kentucky/Louisville         10\n",
       "America/Sitka                        8\n",
       "America/Indiana/Vincennes            6\n",
       "America/Indiana/Tell_City            6\n",
       "America/Toronto                      5\n",
       "America/Indiana/Petersburg           4\n",
       "America/Juneau                       2\n",
       "America/North_Dakota/New_Salem       2\n",
       "America/Indiana/Knox                 1\n",
       "America/Indiana/Winamac              1\n",
       "America/Indiana/Marengo              1\n",
       "America/Ojinaga                      1\n",
       "Name: Timezone, dtype: int64"
      ]
     },
     "execution_count": 78,
     "metadata": {},
     "output_type": "execute_result"
    }
   ],
   "source": [
    "# Running a value count on Timezone to gather the values that will need to be changed into actual time zones.\n",
    "cd.Timezone.value_counts()"
   ]
  },
  {
   "cell_type": "code",
   "execution_count": 79,
   "id": "e35433d2",
   "metadata": {},
   "outputs": [],
   "source": [
    "#Changing the values in Timezone to reflect the real time zones\n",
    "cd.Timezone.replace({\n",
    "    #Eastern Time Zone \n",
    "    \"America/New_York\" : \"Eastern\",\n",
    "    \"America/Detroit\" : \"Eastern\",\n",
    "    \"America/Indiana/Indianapolis\" : \"Eastern\",\n",
    "    \"America/Indiana/Vincennes\" : \"Eastern\",\n",
    "    \"America/Kentucky/Louisville\" : \"Eastern\",\n",
    "    \"America/Indiana/Winamac\" : \"Eastern\",\n",
    "    \"America/Toronto\" : \"Eastern\",\n",
    "    \"America/Indiana/Petersburg\" : \"Eastern\",\n",
    "    \"America/Indiana/Marengo\" : \"Eastern\",\n",
    "    #Central Time Zone\n",
    "    \"America/Chicago\" : \"Central\",\n",
    "    \"America/Menominee\" : \"Central\",\n",
    "    \"America/Indiana/Tell_City\" : \"Central\",\n",
    "    \"America/North_Dakota/New_Salem\" : \"Central\",\n",
    "    \"America/Indiana/Knox\" : \"Central\",\n",
    "    \"America/Ojinaga\" : \"Central\",\n",
    "    #Pacific Time Zone \n",
    "    \"America/Los_Angeles\" : \"Pacific\",\n",
    "    #Mountain Time Zone\n",
    "    \"America/Denver\" : \"Mountain\",\n",
    "    \"America/Phoenix\" : \"Mountain\",\n",
    "    \"America/Boise\" : \"Mountain\",\n",
    "    #Alaska Time Zone\n",
    "    \"America/Anchorage\" : \"Alaska\",\n",
    "    \"America/Nome\" : \"Alaska\",\n",
    "    \"America/Juneau\" : \"Alaska\",\n",
    "    \"America/Sitka\" : \"Alaska\",\n",
    "    #Atlantic Time Zone\n",
    "    \"America/Puerto_Rico\" : \"Atlantic\",\n",
    "    #Hawaii-Aleutian Time Zone\n",
    "    \"Pacific/Honolulu\" : \"Hawaii-Aleutian\"\n",
    "    }, inplace=True)"
   ]
  },
  {
   "cell_type": "code",
   "execution_count": 80,
   "id": "15f75e89",
   "metadata": {},
   "outputs": [],
   "source": [
    "#Changing Timezone column's datatype to category\n",
    "cd[\"Timezone\"] = cd[\"Timezone\"].astype(\"category\")"
   ]
  },
  {
   "cell_type": "code",
   "execution_count": 81,
   "id": "2bf16d76",
   "metadata": {},
   "outputs": [],
   "source": [
    "#Changing Education column's datatype to category\n",
    "cd[\"Education\"] = cd[\"Education\"].astype(\"category\")"
   ]
  },
  {
   "cell_type": "code",
   "execution_count": 82,
   "id": "9e36f5db",
   "metadata": {},
   "outputs": [],
   "source": [
    "#Changing Employment column's datatype to category\n",
    "cd[\"Employment\"] = cd[\"Employment\"].astype(\"category\")"
   ]
  },
  {
   "cell_type": "code",
   "execution_count": 83,
   "id": "1e7830e7",
   "metadata": {},
   "outputs": [],
   "source": [
    "#Changing Marital column's datatype to category\n",
    "cd[\"Marital\"] = cd[\"Marital\"].astype(\"category\")"
   ]
  },
  {
   "cell_type": "code",
   "execution_count": 84,
   "id": "db583aaf",
   "metadata": {},
   "outputs": [],
   "source": [
    "#Changing Gender column's datatype to category\n",
    "cd[\"Gender\"] = cd[\"Gender\"].astype(\"category\")"
   ]
  },
  {
   "cell_type": "code",
   "execution_count": 85,
   "id": "cedd8924",
   "metadata": {},
   "outputs": [],
   "source": [
    "#Changing Contract column's datatype to category\n",
    "cd[\"Contract\"] = cd[\"Contract\"].astype(\"category\")"
   ]
  },
  {
   "cell_type": "code",
   "execution_count": 86,
   "id": "2d9966ce",
   "metadata": {},
   "outputs": [],
   "source": [
    "#Changing InternetService column's datatype to category\n",
    "cd[\"InternetService\"] = cd[\"InternetService\"].astype(\"category\")"
   ]
  },
  {
   "cell_type": "code",
   "execution_count": 87,
   "id": "c6fd0331",
   "metadata": {},
   "outputs": [],
   "source": [
    "#Chaning item1 column's datatype to category\n",
    "cd[\"item1\"] = cd[\"item1\"].astype(\"category\")"
   ]
  },
  {
   "cell_type": "code",
   "execution_count": 88,
   "id": "d9ddfb69",
   "metadata": {},
   "outputs": [],
   "source": [
    "#Chaning item2 column's datatype to category\n",
    "cd[\"item2\"] = cd[\"item2\"].astype(\"category\")"
   ]
  },
  {
   "cell_type": "code",
   "execution_count": 89,
   "id": "60d13ae1",
   "metadata": {},
   "outputs": [],
   "source": [
    "#Chaning item3 column's datatype to category\n",
    "cd[\"item3\"] = cd[\"item3\"].astype(\"category\")"
   ]
  },
  {
   "cell_type": "code",
   "execution_count": 90,
   "id": "c1499017",
   "metadata": {},
   "outputs": [],
   "source": [
    "#Chaning item4 column's datatype to category\n",
    "cd[\"item4\"] = cd[\"item4\"].astype(\"category\")"
   ]
  },
  {
   "cell_type": "code",
   "execution_count": 91,
   "id": "d640133a",
   "metadata": {},
   "outputs": [],
   "source": [
    "#Chaning item5 column's datatype to category\n",
    "cd[\"item5\"] = cd[\"item5\"].astype(\"category\")"
   ]
  },
  {
   "cell_type": "code",
   "execution_count": 92,
   "id": "9cdcad47",
   "metadata": {},
   "outputs": [],
   "source": [
    "#Chaning item6 column's datatype to category\n",
    "cd[\"item6\"] = cd[\"item6\"].astype(\"category\")"
   ]
  },
  {
   "cell_type": "code",
   "execution_count": 93,
   "id": "62398263",
   "metadata": {},
   "outputs": [],
   "source": [
    "#Chaning item7 column's datatype to category\n",
    "cd[\"item7\"] = cd[\"item7\"].astype(\"category\")"
   ]
  },
  {
   "cell_type": "code",
   "execution_count": 94,
   "id": "c538960d",
   "metadata": {},
   "outputs": [],
   "source": [
    "#Chaning item8 column's datatype to category\n",
    "cd[\"item8\"] = cd[\"item8\"].astype(\"category\")"
   ]
  },
  {
   "cell_type": "code",
   "execution_count": 95,
   "id": "20dc9642",
   "metadata": {},
   "outputs": [],
   "source": [
    "#Mapping Churn's responses to be able to change into boolean\n",
    "cd[\"Churn\"] = cd[\"Churn\"].map({\"Yes\": True, \"No\": False})"
   ]
  },
  {
   "cell_type": "code",
   "execution_count": 96,
   "id": "08493793",
   "metadata": {},
   "outputs": [],
   "source": [
    "#Changing Churn column's datatype to boolean\n",
    "cd[\"Churn\"] = cd[\"Churn\"].astype(\"bool\")"
   ]
  },
  {
   "cell_type": "code",
   "execution_count": 97,
   "id": "df5b59a9",
   "metadata": {},
   "outputs": [],
   "source": [
    "#Mapping Techie's responses to be able to change into boolean\n",
    "cd[\"Techie\"] = cd[\"Techie\"].map({\"Yes\": True, \"No\": False})"
   ]
  },
  {
   "cell_type": "code",
   "execution_count": 98,
   "id": "ea4b5311",
   "metadata": {},
   "outputs": [],
   "source": [
    "#Changing Techie column's datatype to boolean\n",
    "cd[\"Techie\"] = cd[\"Techie\"].astype(\"bool\")"
   ]
  },
  {
   "cell_type": "code",
   "execution_count": 99,
   "id": "df3778e1",
   "metadata": {},
   "outputs": [],
   "source": [
    "#Mapping Port_modem's responses to be able to change into boolean\n",
    "cd[\"Port_modem\"] = cd[\"Port_modem\"].map({\"Yes\": True, \"No\": False})"
   ]
  },
  {
   "cell_type": "code",
   "execution_count": 100,
   "id": "cb5c0276",
   "metadata": {},
   "outputs": [],
   "source": [
    "#Changing Port_modem column's datatype to boolean\n",
    "cd[\"Port_modem\"] = cd[\"Port_modem\"].astype(\"bool\")"
   ]
  },
  {
   "cell_type": "code",
   "execution_count": 101,
   "id": "57cef9a1",
   "metadata": {},
   "outputs": [],
   "source": [
    "#Mapping Tablet's responses to be able to change into boolean\n",
    "cd[\"Tablet\"] = cd[\"Tablet\"].map({\"Yes\": True, \"No\": False})"
   ]
  },
  {
   "cell_type": "code",
   "execution_count": 102,
   "id": "2fe6d513",
   "metadata": {},
   "outputs": [],
   "source": [
    "#Changing Tablet column's datatype to boolean\n",
    "cd[\"Tablet\"] = cd[\"Tablet\"].astype(\"bool\")"
   ]
  },
  {
   "cell_type": "code",
   "execution_count": 103,
   "id": "2c119451",
   "metadata": {},
   "outputs": [],
   "source": [
    "#Mapping Phone's responses to be able to change into boolean\n",
    "cd[\"Phone\"] = cd[\"Phone\"].map({\"Yes\": True, \"No\": False})"
   ]
  },
  {
   "cell_type": "code",
   "execution_count": 104,
   "id": "879d8261",
   "metadata": {},
   "outputs": [],
   "source": [
    "#Changing Phone column's datatype to boolean\n",
    "cd[\"Phone\"] = cd[\"Phone\"].astype(\"bool\")"
   ]
  },
  {
   "cell_type": "code",
   "execution_count": 105,
   "id": "ada2aff4",
   "metadata": {},
   "outputs": [],
   "source": [
    "#Mapping Multiple's responses to be able to change into boolean\n",
    "cd[\"Multiple\"] = cd[\"Multiple\"].map({\"Yes\": True, \"No\": False})"
   ]
  },
  {
   "cell_type": "code",
   "execution_count": 106,
   "id": "838ceaa1",
   "metadata": {},
   "outputs": [],
   "source": [
    "#Changing Multiple column's datatype to boolean\n",
    "cd[\"Multiple\"] = cd[\"Multiple\"].astype(\"bool\")"
   ]
  },
  {
   "cell_type": "code",
   "execution_count": 107,
   "id": "04d299ae",
   "metadata": {},
   "outputs": [],
   "source": [
    "#Mapping OnlineSecurity's responses to be able to change into boolean\n",
    "cd[\"OnlineSecurity\"] = cd[\"OnlineSecurity\"].map({\"Yes\": True, \"No\": False})"
   ]
  },
  {
   "cell_type": "code",
   "execution_count": 108,
   "id": "8e2548f9",
   "metadata": {},
   "outputs": [],
   "source": [
    "#Changing OnlineSecurity column's datatype to boolean\n",
    "cd[\"OnlineSecurity\"] = cd[\"OnlineSecurity\"].astype(\"bool\")"
   ]
  },
  {
   "cell_type": "code",
   "execution_count": 109,
   "id": "1951c344",
   "metadata": {},
   "outputs": [],
   "source": [
    "#Mapping OnlineBackup's responses to be able to change into boolean\n",
    "cd[\"OnlineBackup\"] = cd[\"OnlineBackup\"].map({\"Yes\": True, \"No\": False})"
   ]
  },
  {
   "cell_type": "code",
   "execution_count": 110,
   "id": "f0a16ade",
   "metadata": {},
   "outputs": [],
   "source": [
    "#Changing OnlineBackup column's datatype to boolean\n",
    "cd[\"OnlineBackup\"] = cd[\"OnlineBackup\"].astype(\"bool\")"
   ]
  },
  {
   "cell_type": "code",
   "execution_count": 111,
   "id": "a9f5f518",
   "metadata": {},
   "outputs": [],
   "source": [
    "#Mapping DeviceProtection's responses to be able to change into boolean\n",
    "cd[\"DeviceProtection\"] = cd[\"DeviceProtection\"].map({\"Yes\": True, \"No\": False})"
   ]
  },
  {
   "cell_type": "code",
   "execution_count": 112,
   "id": "6ab0b12b",
   "metadata": {},
   "outputs": [],
   "source": [
    "#Changing DeviceProtection column's datatype to boolean\n",
    "cd[\"DeviceProtection\"] = cd[\"DeviceProtection\"].astype(\"bool\")"
   ]
  },
  {
   "cell_type": "code",
   "execution_count": 113,
   "id": "c11f4df6",
   "metadata": {},
   "outputs": [],
   "source": [
    "#Mapping TechSupport's responses to be able to change into boolean\n",
    "cd[\"TechSupport\"] = cd[\"TechSupport\"].map({\"Yes\": True, \"No\": False})"
   ]
  },
  {
   "cell_type": "code",
   "execution_count": 114,
   "id": "dce7fa7f",
   "metadata": {},
   "outputs": [],
   "source": [
    "#Changing TechSupport column's datatype to boolean\n",
    "cd[\"TechSupport\"] = cd[\"TechSupport\"].astype(\"bool\")"
   ]
  },
  {
   "cell_type": "code",
   "execution_count": 115,
   "id": "c46f074c",
   "metadata": {},
   "outputs": [],
   "source": [
    "#Mapping StreamingTV's responses to be able to change into boolean\n",
    "cd[\"StreamingTV\"] = cd[\"StreamingTV\"].map({\"Yes\": True, \"No\": False})"
   ]
  },
  {
   "cell_type": "code",
   "execution_count": 116,
   "id": "bce7868a",
   "metadata": {},
   "outputs": [],
   "source": [
    "#Changing StreamingTV column's datatype to boolean\n",
    "cd[\"StreamingTV\"] = cd[\"StreamingTV\"].astype(\"bool\")"
   ]
  },
  {
   "cell_type": "code",
   "execution_count": 117,
   "id": "5b0822e1",
   "metadata": {},
   "outputs": [],
   "source": [
    "#Mapping StreamingMovies's responses to be able to change into boolean\n",
    "cd[\"StreamingMovies\"] = cd[\"StreamingMovies\"].map({\"Yes\": True, \"No\": False})"
   ]
  },
  {
   "cell_type": "code",
   "execution_count": 118,
   "id": "b5a0f2ab",
   "metadata": {},
   "outputs": [],
   "source": [
    "#Changing StreamingMovies column's datatype to boolean\n",
    "cd[\"StreamingMovies\"] = cd[\"StreamingMovies\"].astype(\"bool\")"
   ]
  },
  {
   "cell_type": "code",
   "execution_count": 119,
   "id": "8a1fb31a",
   "metadata": {},
   "outputs": [],
   "source": [
    "#Mapping PaperlessBilling's responses to be able to change into boolean\n",
    "cd[\"PaperlessBilling\"] = cd[\"PaperlessBilling\"].map({\"Yes\": True, \"No\": False})"
   ]
  },
  {
   "cell_type": "code",
   "execution_count": 120,
   "id": "b25cfb39",
   "metadata": {},
   "outputs": [],
   "source": [
    "#Changing PaperlessBilling column's datatype to boolean\n",
    "cd[\"PaperlessBilling\"] = cd[\"PaperlessBilling\"].astype(\"bool\")"
   ]
  },
  {
   "cell_type": "code",
   "execution_count": 121,
   "id": "df35d593",
   "metadata": {},
   "outputs": [],
   "source": [
    "#Changing Children column's datatype to integer\n",
    "cd[\"Children\"] = cd[\"Children\"].astype(\"int64\")"
   ]
  },
  {
   "cell_type": "code",
   "execution_count": 122,
   "id": "66a7f08b",
   "metadata": {},
   "outputs": [],
   "source": [
    "#Changing Age column's datatype to integer\n",
    "cd[\"Age\"] = cd[\"Age\"].astype(\"int64\")"
   ]
  },
  {
   "cell_type": "code",
   "execution_count": 123,
   "id": "f5b00f69",
   "metadata": {},
   "outputs": [],
   "source": [
    "#Changing Tenure column's datatype to integer\n",
    "cd[\"Tenure\"] = cd[\"Tenure\"].astype(\"int64\")"
   ]
  },
  {
   "cell_type": "code",
   "execution_count": 124,
   "id": "d02c72fa",
   "metadata": {},
   "outputs": [],
   "source": [
    "#Changing MonthlyCharge to only include two decimal places\n",
    "cd[\"MonthlyCharge\"] = cd.MonthlyCharge.round(2)"
   ]
  },
  {
   "cell_type": "code",
   "execution_count": 125,
   "id": "84155812",
   "metadata": {},
   "outputs": [],
   "source": [
    "#Changing Bandwidth_GB_Year to only include two decimal places\n",
    "cd[\"Bandwidth_GB_Year\"] = cd.Bandwidth_GB_Year.round(2)"
   ]
  },
  {
   "cell_type": "code",
   "execution_count": 126,
   "id": "8da68b2d",
   "metadata": {},
   "outputs": [],
   "source": [
    "#Dropping column Outage_sec_perweek\n",
    "cd = cd.drop(columns= [\"Outage_sec_perweek\"])"
   ]
  },
  {
   "cell_type": "code",
   "execution_count": 127,
   "id": "09bf3477",
   "metadata": {},
   "outputs": [],
   "source": [
    "#Creating new column names\n",
    "column_names = [\"case_order\", \"customer_id\", \"uid\", \"city\", \"state\", \"county\", \n",
    "                    \"zip_code\", \"latitude\", \"longitude\", \"population\", \"area_type\", \"timezone\", \"job\", \"children\", \n",
    "                    \"age\", \"education\", \"employment_status\", \"income\", \"marital_status\", \"gender\", \"churn\", \n",
    "                    \"email_sent\", \"tech_support_contact\", \"yearly_equip_failure\", \"techie\", \"contract\", \"portable_modem\", \n",
    "                    \"tablet\", \"internet_service\", \"phone\", \"multiple\", \"online_security\", \"online_backup\", \"device_protection\", \n",
    "                    \"tech_support\", \"streaming_tv\", \"streaming_movies\", \"paperless_billing\", \"payment_method\", \"tenure\", \n",
    "                    \"monthly_charge\", \"bandwidth_gb_year\", \"item1_timely_response\", \"item2_timely_fixes\", \n",
    "                    \"item3_timely_replacements\", \"item4_reliability\", \"item5_options\", \"item6_respectful_response\", \"item7_courteous_exchange\", \n",
    "                    \"item8_active_listening\"]"
   ]
  },
  {
   "cell_type": "code",
   "execution_count": 128,
   "id": "cc5c1680",
   "metadata": {},
   "outputs": [
    {
     "name": "stderr",
     "output_type": "stream",
     "text": [
      "C:\\Users\\cklni\\AppData\\Local\\Temp\\ipykernel_4464\\907905071.py:2: FutureWarning: DataFrame.set_axis 'inplace' keyword is deprecated and will be removed in a future version. Use `obj = obj.set_axis(..., copy=False)` instead\n",
      "  cd.set_axis(column_names, axis=1, inplace=True)\n"
     ]
    }
   ],
   "source": [
    "#Replacing the column names with new ones\n",
    "cd.set_axis(column_names, axis=1, inplace=True)"
   ]
  },
  {
   "cell_type": "code",
   "execution_count": 129,
   "id": "7aff42cd",
   "metadata": {},
   "outputs": [
    {
     "name": "stdout",
     "output_type": "stream",
     "text": [
      "<class 'pandas.core.frame.DataFrame'>\n",
      "Int64Index: 10000 entries, 1 to 10000\n",
      "Data columns (total 50 columns):\n",
      " #   Column                     Non-Null Count  Dtype   \n",
      "---  ------                     --------------  -----   \n",
      " 0   case_order                 10000 non-null  int64   \n",
      " 1   customer_id                10000 non-null  object  \n",
      " 2   uid                        10000 non-null  object  \n",
      " 3   city                       10000 non-null  object  \n",
      " 4   state                      10000 non-null  object  \n",
      " 5   county                     10000 non-null  object  \n",
      " 6   zip_code                   10000 non-null  object  \n",
      " 7   latitude                   10000 non-null  float64 \n",
      " 8   longitude                  10000 non-null  float64 \n",
      " 9   population                 10000 non-null  int64   \n",
      " 10  area_type                  10000 non-null  category\n",
      " 11  timezone                   10000 non-null  category\n",
      " 12  job                        10000 non-null  object  \n",
      " 13  children                   10000 non-null  int64   \n",
      " 14  age                        10000 non-null  int64   \n",
      " 15  education                  10000 non-null  category\n",
      " 16  employment_status          10000 non-null  category\n",
      " 17  income                     10000 non-null  float64 \n",
      " 18  marital_status             10000 non-null  category\n",
      " 19  gender                     10000 non-null  category\n",
      " 20  churn                      10000 non-null  bool    \n",
      " 21  email_sent                 10000 non-null  int64   \n",
      " 22  tech_support_contact       10000 non-null  int64   \n",
      " 23  yearly_equip_failure       10000 non-null  int64   \n",
      " 24  techie                     10000 non-null  bool    \n",
      " 25  contract                   10000 non-null  category\n",
      " 26  portable_modem             10000 non-null  bool    \n",
      " 27  tablet                     10000 non-null  bool    \n",
      " 28  internet_service           10000 non-null  category\n",
      " 29  phone                      10000 non-null  bool    \n",
      " 30  multiple                   10000 non-null  bool    \n",
      " 31  online_security            10000 non-null  bool    \n",
      " 32  online_backup              10000 non-null  bool    \n",
      " 33  device_protection          10000 non-null  bool    \n",
      " 34  tech_support               10000 non-null  bool    \n",
      " 35  streaming_tv               10000 non-null  bool    \n",
      " 36  streaming_movies           10000 non-null  bool    \n",
      " 37  paperless_billing          10000 non-null  bool    \n",
      " 38  payment_method             10000 non-null  object  \n",
      " 39  tenure                     10000 non-null  int64   \n",
      " 40  monthly_charge             10000 non-null  float64 \n",
      " 41  bandwidth_gb_year          10000 non-null  float64 \n",
      " 42  item1_timely_response      10000 non-null  category\n",
      " 43  item2_timely_fixes         10000 non-null  category\n",
      " 44  item3_timely_replacements  10000 non-null  category\n",
      " 45  item4_reliability          10000 non-null  category\n",
      " 46  item5_options              10000 non-null  category\n",
      " 47  item6_respectful_response  10000 non-null  category\n",
      " 48  item7_courteous_exchange   10000 non-null  category\n",
      " 49  item8_active_listening     10000 non-null  category\n",
      "dtypes: bool(13), category(16), float64(5), int64(8), object(8)\n",
      "memory usage: 2.0+ MB\n"
     ]
    }
   ],
   "source": [
    "cd.info()"
   ]
  },
  {
   "cell_type": "code",
   "execution_count": 130,
   "id": "404174e1",
   "metadata": {},
   "outputs": [],
   "source": [
    "cd.to_csv(\"C:/Users/cklni/Desktop/WGU/D206/clean_churn.csv\", index=False)"
   ]
  },
  {
   "cell_type": "code",
   "execution_count": null,
   "id": "97b6e903",
   "metadata": {},
   "outputs": [],
   "source": []
  }
 ],
 "metadata": {
  "kernelspec": {
   "display_name": "Python 3 (ipykernel)",
   "language": "python",
   "name": "python3"
  },
  "language_info": {
   "codemirror_mode": {
    "name": "ipython",
    "version": 3
   },
   "file_extension": ".py",
   "mimetype": "text/x-python",
   "name": "python",
   "nbconvert_exporter": "python",
   "pygments_lexer": "ipython3",
   "version": "3.11.4"
  }
 },
 "nbformat": 4,
 "nbformat_minor": 5
}
