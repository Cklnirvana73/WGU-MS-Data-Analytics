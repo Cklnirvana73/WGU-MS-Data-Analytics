{
 "cells": [
  {
   "cell_type": "markdown",
   "id": "ec6c3b2e",
   "metadata": {},
   "source": [
    "# Part I: Research Question\n",
    "## A1\n",
    "#### Using previous reviews on a product or service, can we predict if a user has a positive or negative opinion on it?\n",
    "## A2\n",
    "#### The goal of this analysis is to see if the words a user uses can predict the sentiment they have for a product or services.\n",
    "## A3\n",
    "#### Recurrent Neural Networks are used for text classification. RNN can produce text classifications such as sequence labeling, speech, tagging, and more. "
   ]
  },
  {
   "cell_type": "code",
   "execution_count": 1,
   "id": "779bc90f",
   "metadata": {},
   "outputs": [],
   "source": [
    "import pandas as pd\n",
    "import numpy as np\n",
    "import matplotlib.pyplot as plt\n",
    "import seaborn as sns\n",
    "import nltk\n",
    "from nltk.stem import WordNetLemmatizer\n",
    "from nltk.corpus import wordnet\n",
    "from nltk.corpus import stopwords\n",
    "from nltk.tokenize import word_tokenize\n",
    "from nltk.stem import PorterStemmer\n",
    "import re\n",
    "import warnings\n",
    "warnings.filterwarnings('ignore')\n",
    "from sklearn.model_selection import train_test_split\n",
    "import tensorflow as tf\n",
    "import keras\n",
    "import tensorflow.keras\n",
    "from keras.layers import Embedding\n",
    "from tensorflow.keras.preprocessing.text import one_hot\n",
    "from tensorflow.keras.models import Sequential\n",
    "from tensorflow.keras.preprocessing.text import Tokenizer\n",
    "from tensorflow.keras.preprocessing.sequence import pad_sequences\n",
    "from tensorflow.keras.models import Sequential\n",
    "from tensorflow.keras.layers import LSTM,Dense, Dropout, SpatialDropout1D\n",
    "from tensorflow.keras.layers import Embedding\n",
    "import statsmodels.api as sm\n",
    "import numpy as np\n",
    "import sys\n",
    "import tensorflow as tf\n",
    "from tensorflow.keras.callbacks import EarlyStopping\n",
    "import statistics"
   ]
  },
  {
   "cell_type": "markdown",
   "id": "c04b9ec9",
   "metadata": {},
   "source": [
    "# Part II: Data Preparation"
   ]
  },
  {
   "cell_type": "code",
   "execution_count": 2,
   "id": "86c8e332",
   "metadata": {},
   "outputs": [
    {
     "name": "stdout",
     "output_type": "stream",
     "text": [
      "<class 'pandas.core.frame.DataFrame'>\n",
      "RangeIndex: 2748 entries, 0 to 2747\n",
      "Data columns (total 2 columns):\n",
      " #   Column  Non-Null Count  Dtype \n",
      "---  ------  --------------  ----- \n",
      " 0   text    2748 non-null   object\n",
      " 1   label   2748 non-null   int64 \n",
      "dtypes: int64(1), object(1)\n",
      "memory usage: 43.1+ KB\n"
     ]
    }
   ],
   "source": [
    "#Getting the files\n",
    "amazon = pd.read_csv(\"C:/Users/cklni/Desktop/WGU/D213/Task 2/task 2 data/sentiment labelled sentences/amazon_cells_labelled.txt\", sep=\"\\t\", header=None, names=[\"text\", \"label\"])\n",
    "imdb = pd.read_csv(\"C:/Users/cklni/Desktop/WGU/D213/Task 2/task 2 data/sentiment labelled sentences/imdb_labelled.txt\", sep=\"\\t\", header=None, names=[\"text\", \"label\"])\n",
    "yelp = pd.read_csv(\"C:/Users/cklni/Desktop/WGU/D213/Task 2/task 2 data/sentiment labelled sentences/yelp_labelled.txt\", sep=\"\\t\", header=None, names=[\"text\", \"label\"])\n",
    "\n",
    "#Concatenate\n",
    "df = pd.concat((amazon, imdb, yelp), ignore_index=True)\n",
    "\n",
    "df.info()"
   ]
  },
  {
   "cell_type": "code",
   "execution_count": 3,
   "id": "e7dfd6a8",
   "metadata": {},
   "outputs": [
    {
     "name": "stdout",
     "output_type": "stream",
     "text": [
      "Shape of data: (2748, 2)\n"
     ]
    },
    {
     "data": {
      "text/html": [
       "<div>\n",
       "<style scoped>\n",
       "    .dataframe tbody tr th:only-of-type {\n",
       "        vertical-align: middle;\n",
       "    }\n",
       "\n",
       "    .dataframe tbody tr th {\n",
       "        vertical-align: top;\n",
       "    }\n",
       "\n",
       "    .dataframe thead th {\n",
       "        text-align: right;\n",
       "    }\n",
       "</style>\n",
       "<table border=\"1\" class=\"dataframe\">\n",
       "  <thead>\n",
       "    <tr style=\"text-align: right;\">\n",
       "      <th></th>\n",
       "      <th>text</th>\n",
       "      <th>label</th>\n",
       "    </tr>\n",
       "  </thead>\n",
       "  <tbody>\n",
       "    <tr>\n",
       "      <th>0</th>\n",
       "      <td>So there is no way for me to plug it in here i...</td>\n",
       "      <td>0</td>\n",
       "    </tr>\n",
       "    <tr>\n",
       "      <th>1</th>\n",
       "      <td>Good case, Excellent value.</td>\n",
       "      <td>1</td>\n",
       "    </tr>\n",
       "    <tr>\n",
       "      <th>2</th>\n",
       "      <td>Great for the jawbone.</td>\n",
       "      <td>1</td>\n",
       "    </tr>\n",
       "    <tr>\n",
       "      <th>3</th>\n",
       "      <td>Tied to charger for conversations lasting more...</td>\n",
       "      <td>0</td>\n",
       "    </tr>\n",
       "    <tr>\n",
       "      <th>4</th>\n",
       "      <td>The mic is great.</td>\n",
       "      <td>1</td>\n",
       "    </tr>\n",
       "  </tbody>\n",
       "</table>\n",
       "</div>"
      ],
      "text/plain": [
       "                                                text  label\n",
       "0  So there is no way for me to plug it in here i...      0\n",
       "1                        Good case, Excellent value.      1\n",
       "2                             Great for the jawbone.      1\n",
       "3  Tied to charger for conversations lasting more...      0\n",
       "4                                  The mic is great.      1"
      ]
     },
     "execution_count": 3,
     "metadata": {},
     "output_type": "execute_result"
    }
   ],
   "source": [
    "#Check dataframe for shape\n",
    "print('Shape of data:', df.shape)\n",
    "df.head()"
   ]
  },
  {
   "cell_type": "code",
   "execution_count": 4,
   "id": "73cb00fa",
   "metadata": {},
   "outputs": [],
   "source": [
    "#Rename Columns\n",
    "df = df.rename(columns={'text': 'review', 'label': 'sentiment'})"
   ]
  },
  {
   "cell_type": "markdown",
   "id": "c2c91793",
   "metadata": {},
   "source": [
    "## B1-1\n",
    "#### Below is the code that is removing the presence of unusual characters."
   ]
  },
  {
   "cell_type": "code",
   "execution_count": 5,
   "id": "1cec525d",
   "metadata": {},
   "outputs": [],
   "source": [
    "#Making lowercase\n",
    "df['review'] = df['review'].str.lower()\n",
    "\n",
    "#Remove punctuation\n",
    "df.review = df.review.str.replace(r'[^\\w\\s]+', '')\n",
    "df.review = df.review.str.replace(r'\\(.*\\)', '', regex = True)\n",
    "df.review = df.review.str.strip()\n",
    "\n",
    "# Defining special characters\n",
    "spec_chars = ['!', '@', '#', '$', '%', '^', '&', '*', '(', ')', '?', '.']\n",
    "\n",
    "# Replacing special characters with spaces\n",
    "for char in spec_chars:\n",
    "    df['review'] = df['review'].str.replace(re.escape(char), '')"
   ]
  },
  {
   "cell_type": "code",
   "execution_count": 6,
   "id": "d4cbe494",
   "metadata": {},
   "outputs": [
    {
     "data": {
      "text/html": [
       "<div>\n",
       "<style scoped>\n",
       "    .dataframe tbody tr th:only-of-type {\n",
       "        vertical-align: middle;\n",
       "    }\n",
       "\n",
       "    .dataframe tbody tr th {\n",
       "        vertical-align: top;\n",
       "    }\n",
       "\n",
       "    .dataframe thead th {\n",
       "        text-align: right;\n",
       "    }\n",
       "</style>\n",
       "<table border=\"1\" class=\"dataframe\">\n",
       "  <thead>\n",
       "    <tr style=\"text-align: right;\">\n",
       "      <th></th>\n",
       "      <th>review</th>\n",
       "      <th>sentiment</th>\n",
       "      <th>length_reviews</th>\n",
       "    </tr>\n",
       "  </thead>\n",
       "  <tbody>\n",
       "    <tr>\n",
       "      <th>0</th>\n",
       "      <td>so there is no way for me to plug it in here i...</td>\n",
       "      <td>0</td>\n",
       "      <td>81</td>\n",
       "    </tr>\n",
       "    <tr>\n",
       "      <th>1</th>\n",
       "      <td>good case excellent value</td>\n",
       "      <td>1</td>\n",
       "      <td>25</td>\n",
       "    </tr>\n",
       "    <tr>\n",
       "      <th>2</th>\n",
       "      <td>great for the jawbone</td>\n",
       "      <td>1</td>\n",
       "      <td>21</td>\n",
       "    </tr>\n",
       "    <tr>\n",
       "      <th>3</th>\n",
       "      <td>tied to charger for conversations lasting more...</td>\n",
       "      <td>0</td>\n",
       "      <td>76</td>\n",
       "    </tr>\n",
       "    <tr>\n",
       "      <th>4</th>\n",
       "      <td>the mic is great</td>\n",
       "      <td>1</td>\n",
       "      <td>16</td>\n",
       "    </tr>\n",
       "  </tbody>\n",
       "</table>\n",
       "</div>"
      ],
      "text/plain": [
       "                                              review  sentiment  \\\n",
       "0  so there is no way for me to plug it in here i...          0   \n",
       "1                          good case excellent value          1   \n",
       "2                              great for the jawbone          1   \n",
       "3  tied to charger for conversations lasting more...          0   \n",
       "4                                   the mic is great          1   \n",
       "\n",
       "   length_reviews  \n",
       "0              81  \n",
       "1              25  \n",
       "2              21  \n",
       "3              76  \n",
       "4              16  "
      ]
     },
     "execution_count": 6,
     "metadata": {},
     "output_type": "execute_result"
    }
   ],
   "source": [
    "#Length of review \n",
    "df['length_reviews'] = df.review.str.len()\n",
    "df.head()"
   ]
  },
  {
   "cell_type": "code",
   "execution_count": 7,
   "id": "aebb8938",
   "metadata": {},
   "outputs": [
    {
     "name": "stdout",
     "output_type": "stream",
     "text": [
      "Vocab:   26\n",
      "Longest:   1390\n",
      "Emb Size:   2.2581008643532257\n"
     ]
    }
   ],
   "source": [
    "reviews = df['review'].tolist()\n",
    "vocab = []\n",
    "max_review_len = 0\n",
    "\n",
    "for review in reviews:\n",
    "    review_len = len(review.split(\" \"))\n",
    "    if review_len > max_review_len:\n",
    "        max_review_len = review_len\n",
    "\n",
    "for word in review.split(\" \"):\n",
    "    if not word in vocab:\n",
    "        vocab.append(word)\n",
    "\n",
    "print(\"Vocab:  \", len(vocab))\n",
    "print(\"Longest:  \", max_review_len)\n",
    "print(\"Emb Size:  \", len(vocab)**0.25)"
   ]
  },
  {
   "cell_type": "markdown",
   "id": "0abed773",
   "metadata": {},
   "source": [
    "## B1-2\n",
    "#### The vocabulary size is 26.\n",
    "## B1-3\n",
    "#### The proposed word embedding length is 2.26."
   ]
  },
  {
   "cell_type": "code",
   "execution_count": 8,
   "id": "0c925346",
   "metadata": {},
   "outputs": [
    {
     "name": "stdout",
     "output_type": "stream",
     "text": [
      "Max: 1390\n",
      "Min: 1\n",
      "Median: 10.0\n",
      "75th percentile: 16.0\n"
     ]
    }
   ],
   "source": [
    "commentary_length = []\n",
    "for char_len in df['review']:\n",
    "    commentary_length.append(len(char_len.split(' ')))\n",
    "    \n",
    "commentary_max = np.max(commentary_length)\n",
    "commentary_min = np.min(commentary_length)\n",
    "commentary_median = np.median(commentary_length)\n",
    "commentary_75 = np.percentile(commentary_length, 75)\n",
    "\n",
    "print(\"Max:\", commentary_max)\n",
    "print(\"Min:\", commentary_min)\n",
    "print(\"Median:\", commentary_median)\n",
    "print(\"75th percentile:\", commentary_75)"
   ]
  },
  {
   "cell_type": "markdown",
   "id": "0ae9d841",
   "metadata": {},
   "source": [
    "## B1-4\n",
    "#### I saw that the longest review length of 1390, which made me investigate the median and 75th percentile to get a better feel for the data. The 75th percentile of 16 in comparison to the max shows there is outliers. I will use 16 as the maximum sequence length to hopefully gain some accuracy in my model. \n",
    "## B2\n",
    "#### The tokenization process assigns a number or “tokens” to each word. I will be using one hot from TensorFlow. Keras package to accomplish this."
   ]
  },
  {
   "cell_type": "code",
   "execution_count": 9,
   "id": "4e308738",
   "metadata": {},
   "outputs": [
    {
     "name": "stdout",
     "output_type": "stream",
     "text": [
      "[16, 21, 21, 14, 6, 9, 1, 4, 8, 10, 17, 23, 17, 12, 24, 24, 17, 4, 14, 8, 20]\n"
     ]
    }
   ],
   "source": [
    "encoded_reviews = [one_hot(d, len(vocab)) for d in reviews]\n",
    "print(encoded_reviews[0])"
   ]
  },
  {
   "cell_type": "markdown",
   "id": "fb573be4",
   "metadata": {},
   "source": [
    "## B3-1\n",
    "#### The padding occurs after the text sequence."
   ]
  },
  {
   "cell_type": "code",
   "execution_count": 10,
   "id": "f9445ee9",
   "metadata": {},
   "outputs": [
    {
     "name": "stdout",
     "output_type": "stream",
     "text": [
      "[[ 9  1  4 ... 14  8 20]\n",
      " [ 7  3 25 ...  0  0  0]\n",
      " [11  9 12 ...  0  0  0]\n",
      " ...\n",
      " [ 9 17 20 ...  0  0  0]\n",
      " [12 17 13 ...  3 23 14]\n",
      " [11 14 17 ...  3 12 16]]\n"
     ]
    }
   ],
   "source": [
    "max_review_len = 16  # Adjusted for 75th percentile\n",
    "padded_reviews = pad_sequences(encoded_reviews, maxlen=max_review_len, padding='post')\n",
    "print(padded_reviews)"
   ]
  },
  {
   "cell_type": "markdown",
   "id": "dfb79bd1",
   "metadata": {},
   "source": [
    "## B3-2\n",
    "#### Please see below for a single padded sequence."
   ]
  },
  {
   "cell_type": "code",
   "execution_count": 11,
   "id": "d54fd071",
   "metadata": {},
   "outputs": [
    {
     "data": {
      "text/plain": [
       "array([ 7,  3, 25,  7,  0,  0,  0,  0,  0,  0,  0,  0,  0,  0,  0,  0])"
      ]
     },
     "execution_count": 11,
     "metadata": {},
     "output_type": "execute_result"
    }
   ],
   "source": [
    "padded_reviews[1]"
   ]
  },
  {
   "cell_type": "markdown",
   "id": "253fda71",
   "metadata": {},
   "source": [
    "## B4\n",
    "#### There is two categories of sentiment. Negative reviews are 0 and positive reviews are 1. \n",
    "## B5\n",
    "#### I imported all the three files and concatenated them. I renamed the columns to give better meanings to them. Then I removed the unusual characters by making all lowercase, removing the punctuations, and replaced the special characters with spaces. I created a new column for the length of the reviews. Next, I got the vocabulary number, longest review, and the recommended embedding size. Then I tokenized the reviews and padded them to a max length of 16. Below I will split the data into 80/20 for the training and test sets."
   ]
  },
  {
   "cell_type": "code",
   "execution_count": 12,
   "id": "1bb39164",
   "metadata": {},
   "outputs": [],
   "source": [
    "#Split the dataset\n",
    "x_train, x_test, y_train, y_test = train_test_split(padded_reviews, df.sentiment, test_size=0.2, random_state=7)"
   ]
  },
  {
   "cell_type": "markdown",
   "id": "a0588575",
   "metadata": {},
   "source": [
    "## B6\n",
    "#### The below code is saving the prepared data set. This will be submitted with this notebook."
   ]
  },
  {
   "cell_type": "code",
   "execution_count": 13,
   "id": "8bb1318d",
   "metadata": {},
   "outputs": [],
   "source": [
    "df_final = pd.DataFrame(padded_reviews)\n",
    "df_final['sentiment'] = df.sentiment\n",
    "df_final.to_csv(\"C:/Users/cklni/Desktop/WGU/D213/Task 2/christianleblancprepared.csv\")"
   ]
  },
  {
   "cell_type": "markdown",
   "id": "1cab115a",
   "metadata": {},
   "source": [
    "# Part III: Network Architecture\n",
    "## C1\n",
    "#### Please see below for the model summary."
   ]
  },
  {
   "cell_type": "code",
   "execution_count": 58,
   "id": "24f0323a",
   "metadata": {},
   "outputs": [
    {
     "data": {
      "text/html": [
       "<pre style=\"white-space:pre;overflow-x:auto;line-height:normal;font-family:Menlo,'DejaVu Sans Mono',consolas,'Courier New',monospace\"><span style=\"font-weight: bold\">Model: \"sequential_16\"</span>\n",
       "</pre>\n"
      ],
      "text/plain": [
       "\u001b[1mModel: \"sequential_16\"\u001b[0m\n"
      ]
     },
     "metadata": {},
     "output_type": "display_data"
    },
    {
     "data": {
      "text/html": [
       "<pre style=\"white-space:pre;overflow-x:auto;line-height:normal;font-family:Menlo,'DejaVu Sans Mono',consolas,'Courier New',monospace\">┏━━━━━━━━━━━━━━━━━━━━━━━━━━━━━━━━━━━━━━┳━━━━━━━━━━━━━━━━━━━━━━━━━━━━━┳━━━━━━━━━━━━━━━━━┓\n",
       "┃<span style=\"font-weight: bold\"> Layer (type)                         </span>┃<span style=\"font-weight: bold\"> Output Shape                </span>┃<span style=\"font-weight: bold\">         Param # </span>┃\n",
       "┡━━━━━━━━━━━━━━━━━━━━━━━━━━━━━━━━━━━━━━╇━━━━━━━━━━━━━━━━━━━━━━━━━━━━━╇━━━━━━━━━━━━━━━━━┩\n",
       "│ embedding_16 (<span style=\"color: #0087ff; text-decoration-color: #0087ff\">Embedding</span>)             │ (<span style=\"color: #00d7ff; text-decoration-color: #00d7ff\">None</span>, <span style=\"color: #00af00; text-decoration-color: #00af00\">16</span>, <span style=\"color: #00af00; text-decoration-color: #00af00\">8</span>)               │             <span style=\"color: #00af00; text-decoration-color: #00af00\">216</span> │\n",
       "├──────────────────────────────────────┼─────────────────────────────┼─────────────────┤\n",
       "│ flatten_16 (<span style=\"color: #0087ff; text-decoration-color: #0087ff\">Flatten</span>)                 │ (<span style=\"color: #00d7ff; text-decoration-color: #00d7ff\">None</span>, <span style=\"color: #00af00; text-decoration-color: #00af00\">128</span>)                 │               <span style=\"color: #00af00; text-decoration-color: #00af00\">0</span> │\n",
       "├──────────────────────────────────────┼─────────────────────────────┼─────────────────┤\n",
       "│ dropout_16 (<span style=\"color: #0087ff; text-decoration-color: #0087ff\">Dropout</span>)                 │ (<span style=\"color: #00d7ff; text-decoration-color: #00d7ff\">None</span>, <span style=\"color: #00af00; text-decoration-color: #00af00\">128</span>)                 │               <span style=\"color: #00af00; text-decoration-color: #00af00\">0</span> │\n",
       "├──────────────────────────────────────┼─────────────────────────────┼─────────────────┤\n",
       "│ dense_32 (<span style=\"color: #0087ff; text-decoration-color: #0087ff\">Dense</span>)                     │ (<span style=\"color: #00d7ff; text-decoration-color: #00d7ff\">None</span>, <span style=\"color: #00af00; text-decoration-color: #00af00\">16</span>)                  │           <span style=\"color: #00af00; text-decoration-color: #00af00\">2,064</span> │\n",
       "├──────────────────────────────────────┼─────────────────────────────┼─────────────────┤\n",
       "│ dense_33 (<span style=\"color: #0087ff; text-decoration-color: #0087ff\">Dense</span>)                     │ (<span style=\"color: #00d7ff; text-decoration-color: #00d7ff\">None</span>, <span style=\"color: #00af00; text-decoration-color: #00af00\">1</span>)                   │              <span style=\"color: #00af00; text-decoration-color: #00af00\">17</span> │\n",
       "└──────────────────────────────────────┴─────────────────────────────┴─────────────────┘\n",
       "</pre>\n"
      ],
      "text/plain": [
       "┏━━━━━━━━━━━━━━━━━━━━━━━━━━━━━━━━━━━━━━┳━━━━━━━━━━━━━━━━━━━━━━━━━━━━━┳━━━━━━━━━━━━━━━━━┓\n",
       "┃\u001b[1m \u001b[0m\u001b[1mLayer (type)                        \u001b[0m\u001b[1m \u001b[0m┃\u001b[1m \u001b[0m\u001b[1mOutput Shape               \u001b[0m\u001b[1m \u001b[0m┃\u001b[1m \u001b[0m\u001b[1m        Param #\u001b[0m\u001b[1m \u001b[0m┃\n",
       "┡━━━━━━━━━━━━━━━━━━━━━━━━━━━━━━━━━━━━━━╇━━━━━━━━━━━━━━━━━━━━━━━━━━━━━╇━━━━━━━━━━━━━━━━━┩\n",
       "│ embedding_16 (\u001b[38;5;33mEmbedding\u001b[0m)             │ (\u001b[38;5;45mNone\u001b[0m, \u001b[38;5;34m16\u001b[0m, \u001b[38;5;34m8\u001b[0m)               │             \u001b[38;5;34m216\u001b[0m │\n",
       "├──────────────────────────────────────┼─────────────────────────────┼─────────────────┤\n",
       "│ flatten_16 (\u001b[38;5;33mFlatten\u001b[0m)                 │ (\u001b[38;5;45mNone\u001b[0m, \u001b[38;5;34m128\u001b[0m)                 │               \u001b[38;5;34m0\u001b[0m │\n",
       "├──────────────────────────────────────┼─────────────────────────────┼─────────────────┤\n",
       "│ dropout_16 (\u001b[38;5;33mDropout\u001b[0m)                 │ (\u001b[38;5;45mNone\u001b[0m, \u001b[38;5;34m128\u001b[0m)                 │               \u001b[38;5;34m0\u001b[0m │\n",
       "├──────────────────────────────────────┼─────────────────────────────┼─────────────────┤\n",
       "│ dense_32 (\u001b[38;5;33mDense\u001b[0m)                     │ (\u001b[38;5;45mNone\u001b[0m, \u001b[38;5;34m16\u001b[0m)                  │           \u001b[38;5;34m2,064\u001b[0m │\n",
       "├──────────────────────────────────────┼─────────────────────────────┼─────────────────┤\n",
       "│ dense_33 (\u001b[38;5;33mDense\u001b[0m)                     │ (\u001b[38;5;45mNone\u001b[0m, \u001b[38;5;34m1\u001b[0m)                   │              \u001b[38;5;34m17\u001b[0m │\n",
       "└──────────────────────────────────────┴─────────────────────────────┴─────────────────┘\n"
      ]
     },
     "metadata": {},
     "output_type": "display_data"
    },
    {
     "data": {
      "text/html": [
       "<pre style=\"white-space:pre;overflow-x:auto;line-height:normal;font-family:Menlo,'DejaVu Sans Mono',consolas,'Courier New',monospace\"><span style=\"font-weight: bold\"> Total params: </span><span style=\"color: #00af00; text-decoration-color: #00af00\">2,297</span> (8.97 KB)\n",
       "</pre>\n"
      ],
      "text/plain": [
       "\u001b[1m Total params: \u001b[0m\u001b[38;5;34m2,297\u001b[0m (8.97 KB)\n"
      ]
     },
     "metadata": {},
     "output_type": "display_data"
    },
    {
     "data": {
      "text/html": [
       "<pre style=\"white-space:pre;overflow-x:auto;line-height:normal;font-family:Menlo,'DejaVu Sans Mono',consolas,'Courier New',monospace\"><span style=\"font-weight: bold\"> Trainable params: </span><span style=\"color: #00af00; text-decoration-color: #00af00\">2,297</span> (8.97 KB)\n",
       "</pre>\n"
      ],
      "text/plain": [
       "\u001b[1m Trainable params: \u001b[0m\u001b[38;5;34m2,297\u001b[0m (8.97 KB)\n"
      ]
     },
     "metadata": {},
     "output_type": "display_data"
    },
    {
     "data": {
      "text/html": [
       "<pre style=\"white-space:pre;overflow-x:auto;line-height:normal;font-family:Menlo,'DejaVu Sans Mono',consolas,'Courier New',monospace\"><span style=\"font-weight: bold\"> Non-trainable params: </span><span style=\"color: #00af00; text-decoration-color: #00af00\">0</span> (0.00 B)\n",
       "</pre>\n"
      ],
      "text/plain": [
       "\u001b[1m Non-trainable params: \u001b[0m\u001b[38;5;34m0\u001b[0m (0.00 B)\n"
      ]
     },
     "metadata": {},
     "output_type": "display_data"
    },
    {
     "name": "stdout",
     "output_type": "stream",
     "text": [
      "None\n"
     ]
    }
   ],
   "source": [
    "model = keras.Sequential()\n",
    "model.add(keras.layers.Embedding(27, 8, input_length=16))\n",
    "model.add(keras.layers.Flatten())\n",
    "model.add(keras.layers.Dropout(0.2))\n",
    "model.add(keras.layers.Dense(16, activation='relu'))\n",
    "model.add(keras.layers.Dense(1, activation='sigmoid'))\n",
    "model.compile(optimizer='adam', loss='binary_crossentropy', metrics=['accuracy'])\n",
    "\n",
    "# Build the model by providing an input shape\n",
    "model.build(input_shape=(None, 16))\n",
    "\n",
    "# Print the model summary\n",
    "print(model.summary())\n"
   ]
  },
  {
   "cell_type": "code",
   "execution_count": 61,
   "id": "e2f9fe6f",
   "metadata": {},
   "outputs": [
    {
     "name": "stdout",
     "output_type": "stream",
     "text": [
      "Test loss 0.6922975778579712\n",
      "Test accuracy 0.5272727012634277\n"
     ]
    }
   ],
   "source": [
    "score = model.evaluate(x_test, y_test, verbose = 0)\n",
    "\n",
    "print('Test loss',res[0])\n",
    "print('Test accuracy',res[1])"
   ]
  },
  {
   "cell_type": "markdown",
   "id": "77f35d57",
   "metadata": {},
   "source": [
    "## C2\n",
    "#### The model has five layers. The first layer is embedding with 216 parameters. The second layer is Flatten. The third is Dropout. The fourth and fifth layers are Dense. The fourth has 2,064 parameters and fifth has 17.\n",
    "## C3-1\n",
    "#### Both the Sigmoid function and the Rectified Linear Activation (ReLu) were used in the model. The Sigmoid function was used for its binary classification. The ReLu is efficient activation function used for hidden layers.\n",
    "## C3-2\n",
    "#### The first three layers have 128 nodes. The third has 16. The last layer has 1 node.\n",
    "## C3-3\n",
    "#### The loss function for the model is Binary crossentropy due to the binary responses of positive or negative reviews.\n",
    "## C3-4\n",
    "#### The “adam” optimizer is the optimizer for the model. It was chosen due to its performance and efficiency.\n",
    "## C3-5\n",
    "#### I will use a stopping criteria of patience of 2. This will be done to avoid overfitting of the training data.\n",
    "## C3-6\n",
    "#### Using the “accuracy” metric to evaluate the model gives a Test accuracy of approximately 52.7%. \n",
    "# Part IV: Model Evaluation"
   ]
  },
  {
   "cell_type": "code",
   "execution_count": 59,
   "id": "5e815774",
   "metadata": {},
   "outputs": [
    {
     "name": "stdout",
     "output_type": "stream",
     "text": [
      "Epoch 1/30\n",
      "\u001b[1m69/69\u001b[0m \u001b[32m━━━━━━━━━━━━━━━━━━━━\u001b[0m\u001b[37m\u001b[0m \u001b[1m1s\u001b[0m 4ms/step - accuracy: 0.5237 - loss: 0.6919 - val_accuracy: 0.5109 - val_loss: 0.6929\n",
      "Epoch 2/30\n",
      "\u001b[1m69/69\u001b[0m \u001b[32m━━━━━━━━━━━━━━━━━━━━\u001b[0m\u001b[37m\u001b[0m \u001b[1m0s\u001b[0m 2ms/step - accuracy: 0.5733 - loss: 0.6888 - val_accuracy: 0.5073 - val_loss: 0.6904\n",
      "Epoch 3/30\n",
      "\u001b[1m69/69\u001b[0m \u001b[32m━━━━━━━━━━━━━━━━━━━━\u001b[0m\u001b[37m\u001b[0m \u001b[1m0s\u001b[0m 2ms/step - accuracy: 0.5911 - loss: 0.6809 - val_accuracy: 0.5582 - val_loss: 0.6853\n",
      "Epoch 4/30\n",
      "\u001b[1m69/69\u001b[0m \u001b[32m━━━━━━━━━━━━━━━━━━━━\u001b[0m\u001b[37m\u001b[0m \u001b[1m0s\u001b[0m 2ms/step - accuracy: 0.6100 - loss: 0.6715 - val_accuracy: 0.5782 - val_loss: 0.6790\n",
      "Epoch 5/30\n",
      "\u001b[1m69/69\u001b[0m \u001b[32m━━━━━━━━━━━━━━━━━━━━\u001b[0m\u001b[37m\u001b[0m \u001b[1m0s\u001b[0m 2ms/step - accuracy: 0.6279 - loss: 0.6591 - val_accuracy: 0.5873 - val_loss: 0.6723\n",
      "Epoch 6/30\n",
      "\u001b[1m69/69\u001b[0m \u001b[32m━━━━━━━━━━━━━━━━━━━━\u001b[0m\u001b[37m\u001b[0m \u001b[1m0s\u001b[0m 2ms/step - accuracy: 0.6390 - loss: 0.6432 - val_accuracy: 0.6000 - val_loss: 0.6707\n",
      "Epoch 7/30\n",
      "\u001b[1m69/69\u001b[0m \u001b[32m━━━━━━━━━━━━━━━━━━━━\u001b[0m\u001b[37m\u001b[0m \u001b[1m0s\u001b[0m 2ms/step - accuracy: 0.6477 - loss: 0.6339 - val_accuracy: 0.6127 - val_loss: 0.6691\n",
      "Epoch 8/30\n",
      "\u001b[1m69/69\u001b[0m \u001b[32m━━━━━━━━━━━━━━━━━━━━\u001b[0m\u001b[37m\u001b[0m \u001b[1m0s\u001b[0m 2ms/step - accuracy: 0.6416 - loss: 0.6292 - val_accuracy: 0.6000 - val_loss: 0.6719\n",
      "Epoch 9/30\n",
      "\u001b[1m69/69\u001b[0m \u001b[32m━━━━━━━━━━━━━━━━━━━━\u001b[0m\u001b[37m\u001b[0m \u001b[1m0s\u001b[0m 2ms/step - accuracy: 0.6442 - loss: 0.6316 - val_accuracy: 0.5982 - val_loss: 0.6707\n",
      "Epoch 10/30\n",
      "\u001b[1m69/69\u001b[0m \u001b[32m━━━━━━━━━━━━━━━━━━━━\u001b[0m\u001b[37m\u001b[0m \u001b[1m0s\u001b[0m 2ms/step - accuracy: 0.6633 - loss: 0.6314 - val_accuracy: 0.6018 - val_loss: 0.6754\n",
      "Epoch 11/30\n",
      "\u001b[1m69/69\u001b[0m \u001b[32m━━━━━━━━━━━━━━━━━━━━\u001b[0m\u001b[37m\u001b[0m \u001b[1m0s\u001b[0m 2ms/step - accuracy: 0.6590 - loss: 0.6152 - val_accuracy: 0.5927 - val_loss: 0.6742\n",
      "Epoch 12/30\n",
      "\u001b[1m69/69\u001b[0m \u001b[32m━━━━━━━━━━━━━━━━━━━━\u001b[0m\u001b[37m\u001b[0m \u001b[1m0s\u001b[0m 2ms/step - accuracy: 0.6419 - loss: 0.6251 - val_accuracy: 0.6000 - val_loss: 0.6779\n",
      "Epoch 13/30\n",
      "\u001b[1m69/69\u001b[0m \u001b[32m━━━━━━━━━━━━━━━━━━━━\u001b[0m\u001b[37m\u001b[0m \u001b[1m0s\u001b[0m 2ms/step - accuracy: 0.6623 - loss: 0.6085 - val_accuracy: 0.5945 - val_loss: 0.6787\n",
      "Epoch 14/30\n",
      "\u001b[1m69/69\u001b[0m \u001b[32m━━━━━━━━━━━━━━━━━━━━\u001b[0m\u001b[37m\u001b[0m \u001b[1m0s\u001b[0m 2ms/step - accuracy: 0.6564 - loss: 0.6153 - val_accuracy: 0.5891 - val_loss: 0.6797\n",
      "Epoch 15/30\n",
      "\u001b[1m69/69\u001b[0m \u001b[32m━━━━━━━━━━━━━━━━━━━━\u001b[0m\u001b[37m\u001b[0m \u001b[1m0s\u001b[0m 2ms/step - accuracy: 0.6780 - loss: 0.6087 - val_accuracy: 0.5982 - val_loss: 0.6811\n",
      "Epoch 16/30\n",
      "\u001b[1m69/69\u001b[0m \u001b[32m━━━━━━━━━━━━━━━━━━━━\u001b[0m\u001b[37m\u001b[0m \u001b[1m0s\u001b[0m 2ms/step - accuracy: 0.6646 - loss: 0.6150 - val_accuracy: 0.5909 - val_loss: 0.6801\n",
      "Epoch 17/30\n",
      "\u001b[1m69/69\u001b[0m \u001b[32m━━━━━━━━━━━━━━━━━━━━\u001b[0m\u001b[37m\u001b[0m \u001b[1m0s\u001b[0m 2ms/step - accuracy: 0.6690 - loss: 0.6107 - val_accuracy: 0.6018 - val_loss: 0.6835\n",
      "Epoch 18/30\n",
      "\u001b[1m69/69\u001b[0m \u001b[32m━━━━━━━━━━━━━━━━━━━━\u001b[0m\u001b[37m\u001b[0m \u001b[1m0s\u001b[0m 2ms/step - accuracy: 0.6827 - loss: 0.6060 - val_accuracy: 0.6073 - val_loss: 0.6814\n",
      "Epoch 19/30\n",
      "\u001b[1m69/69\u001b[0m \u001b[32m━━━━━━━━━━━━━━━━━━━━\u001b[0m\u001b[37m\u001b[0m \u001b[1m0s\u001b[0m 2ms/step - accuracy: 0.6884 - loss: 0.5979 - val_accuracy: 0.5945 - val_loss: 0.6834\n",
      "Epoch 20/30\n",
      "\u001b[1m69/69\u001b[0m \u001b[32m━━━━━━━━━━━━━━━━━━━━\u001b[0m\u001b[37m\u001b[0m \u001b[1m0s\u001b[0m 2ms/step - accuracy: 0.6903 - loss: 0.6036 - val_accuracy: 0.6000 - val_loss: 0.6873\n",
      "Epoch 21/30\n",
      "\u001b[1m69/69\u001b[0m \u001b[32m━━━━━━━━━━━━━━━━━━━━\u001b[0m\u001b[37m\u001b[0m \u001b[1m0s\u001b[0m 2ms/step - accuracy: 0.6753 - loss: 0.5921 - val_accuracy: 0.6109 - val_loss: 0.6867\n",
      "Epoch 22/30\n",
      "\u001b[1m69/69\u001b[0m \u001b[32m━━━━━━━━━━━━━━━━━━━━\u001b[0m\u001b[37m\u001b[0m \u001b[1m0s\u001b[0m 2ms/step - accuracy: 0.6954 - loss: 0.5951 - val_accuracy: 0.6018 - val_loss: 0.6865\n",
      "Epoch 23/30\n",
      "\u001b[1m69/69\u001b[0m \u001b[32m━━━━━━━━━━━━━━━━━━━━\u001b[0m\u001b[37m\u001b[0m \u001b[1m0s\u001b[0m 2ms/step - accuracy: 0.6808 - loss: 0.5914 - val_accuracy: 0.5964 - val_loss: 0.6877\n",
      "Epoch 24/30\n",
      "\u001b[1m69/69\u001b[0m \u001b[32m━━━━━━━━━━━━━━━━━━━━\u001b[0m\u001b[37m\u001b[0m \u001b[1m0s\u001b[0m 2ms/step - accuracy: 0.6809 - loss: 0.5900 - val_accuracy: 0.5982 - val_loss: 0.6887\n",
      "Epoch 25/30\n",
      "\u001b[1m69/69\u001b[0m \u001b[32m━━━━━━━━━━━━━━━━━━━━\u001b[0m\u001b[37m\u001b[0m \u001b[1m0s\u001b[0m 2ms/step - accuracy: 0.6760 - loss: 0.5891 - val_accuracy: 0.6091 - val_loss: 0.6898\n",
      "Epoch 26/30\n",
      "\u001b[1m69/69\u001b[0m \u001b[32m━━━━━━━━━━━━━━━━━━━━\u001b[0m\u001b[37m\u001b[0m \u001b[1m0s\u001b[0m 2ms/step - accuracy: 0.6975 - loss: 0.5749 - val_accuracy: 0.5982 - val_loss: 0.6919\n",
      "Epoch 27/30\n",
      "\u001b[1m69/69\u001b[0m \u001b[32m━━━━━━━━━━━━━━━━━━━━\u001b[0m\u001b[37m\u001b[0m \u001b[1m0s\u001b[0m 2ms/step - accuracy: 0.6892 - loss: 0.5786 - val_accuracy: 0.6036 - val_loss: 0.6960\n",
      "Epoch 28/30\n",
      "\u001b[1m69/69\u001b[0m \u001b[32m━━━━━━━━━━━━━━━━━━━━\u001b[0m\u001b[37m\u001b[0m \u001b[1m0s\u001b[0m 2ms/step - accuracy: 0.6818 - loss: 0.5917 - val_accuracy: 0.5909 - val_loss: 0.6911\n",
      "Epoch 29/30\n",
      "\u001b[1m69/69\u001b[0m \u001b[32m━━━━━━━━━━━━━━━━━━━━\u001b[0m\u001b[37m\u001b[0m \u001b[1m0s\u001b[0m 2ms/step - accuracy: 0.6878 - loss: 0.5814 - val_accuracy: 0.6036 - val_loss: 0.6914\n",
      "Epoch 30/30\n",
      "\u001b[1m69/69\u001b[0m \u001b[32m━━━━━━━━━━━━━━━━━━━━\u001b[0m\u001b[37m\u001b[0m \u001b[1m0s\u001b[0m 2ms/step - accuracy: 0.7109 - loss: 0.5743 - val_accuracy: 0.6055 - val_loss: 0.6928\n"
     ]
    }
   ],
   "source": [
    "unrestricted = model.fit(x_train, y_train, epochs=30,\n",
    "                    validation_data=[x_test, y_test])"
   ]
  },
  {
   "cell_type": "code",
   "execution_count": 60,
   "id": "ed260fd3",
   "metadata": {},
   "outputs": [
    {
     "name": "stdout",
     "output_type": "stream",
     "text": [
      "Epoch 1/30\n",
      "\u001b[1m69/69\u001b[0m \u001b[32m━━━━━━━━━━━━━━━━━━━━\u001b[0m\u001b[37m\u001b[0m \u001b[1m0s\u001b[0m 2ms/step - accuracy: 0.6886 - loss: 0.5869 - val_accuracy: 0.6018 - val_loss: 0.6930\n",
      "Epoch 2/30\n",
      "\u001b[1m69/69\u001b[0m \u001b[32m━━━━━━━━━━━━━━━━━━━━\u001b[0m\u001b[37m\u001b[0m \u001b[1m0s\u001b[0m 2ms/step - accuracy: 0.6869 - loss: 0.5855 - val_accuracy: 0.5964 - val_loss: 0.6919\n",
      "Epoch 3/30\n",
      "\u001b[1m69/69\u001b[0m \u001b[32m━━━━━━━━━━━━━━━━━━━━\u001b[0m\u001b[37m\u001b[0m \u001b[1m0s\u001b[0m 2ms/step - accuracy: 0.7018 - loss: 0.5793 - val_accuracy: 0.6073 - val_loss: 0.6955\n",
      "Epoch 4/30\n",
      "\u001b[1m69/69\u001b[0m \u001b[32m━━━━━━━━━━━━━━━━━━━━\u001b[0m\u001b[37m\u001b[0m \u001b[1m0s\u001b[0m 2ms/step - accuracy: 0.7087 - loss: 0.5656 - val_accuracy: 0.5982 - val_loss: 0.6969\n"
     ]
    }
   ],
   "source": [
    "num_epochs = 30\n",
    "\n",
    "early_stopping_monitor = EarlyStopping(patience=2)\n",
    "\n",
    "history = model.fit(x_train, y_train, epochs=num_epochs,\n",
    "                     validation_data=[x_test, y_test], callbacks=[early_stopping_monitor])"
   ]
  },
  {
   "cell_type": "markdown",
   "id": "a3858576",
   "metadata": {},
   "source": [
    "## D1\n",
    "#### Above I ran a model fit with 30 epochs without any stopping criteria and then with a stopping criteria of 2 patience. The stopping criteria helped efficiency by dropping the number of epochs needed.\n",
    "## D2\n",
    "#### The training accuracy being approximately 10% higher than the validation and test accuracies shows some overfitting is present. This could possibly be improved by things such as a simpler model or having access to more data to improve the model’s ability to generalize.\n",
    "## D3\n",
    "#### Please see graphs below."
   ]
  },
  {
   "cell_type": "code",
   "execution_count": 62,
   "id": "25563759",
   "metadata": {},
   "outputs": [
    {
     "data": {
      "image/png": "[encoded data removed]",
      "text/plain": [
       "<Figure size 640x480 with 1 Axes>"
      ]
     },
     "metadata": {},
     "output_type": "display_data"
    },
    {
     "data": {
      "text/plain": [
       "<Figure size 640x480 with 0 Axes>"
      ]
     },
     "metadata": {},
     "output_type": "display_data"
    }
   ],
   "source": [
    "plt.plot(history.history['loss'], label='loss')\n",
    "plt.plot(history.history['val_loss'], label='val_loss')\n",
    "plt.legend()\n",
    "plt.show()\n",
    "plt.savefig(\"Loss plot.jpg\")"
   ]
  },
  {
   "cell_type": "code",
   "execution_count": 63,
   "id": "cb88eb6f",
   "metadata": {},
   "outputs": [
    {
     "data": {
      "image/png": "[encoded data removed]",
      "text/plain": [
       "<Figure size 640x480 with 1 Axes>"
      ]
     },
     "metadata": {},
     "output_type": "display_data"
    },
    {
     "data": {
      "text/plain": [
       "<Figure size 640x480 with 0 Axes>"
      ]
     },
     "metadata": {},
     "output_type": "display_data"
    }
   ],
   "source": [
    "plt.plot(history.history['accuracy'], label = 'acc')\n",
    "plt.plot(history.history['val_accuracy'], label = 'val_acc')\n",
    "plt.legend()\n",
    "plt.show()\n",
    "plt.savefig(\"accuracy plot.jpg\")"
   ]
  },
  {
   "cell_type": "markdown",
   "id": "7ed96d8a",
   "metadata": {},
   "source": [
    "## D4\n",
    "#### The accuracy of the trained network after the 4th epoch is 70.9%. This is when the early stopping of patience equal to two stopped. The graph shows that the validation accuracy mirrors the rise and falls but it does it around 8-10% lower.\n",
    "# Part V: Summary and Recommendations\n",
    "## E\n",
    "#### Please see below code used to save the trained network."
   ]
  },
  {
   "cell_type": "code",
   "execution_count": 66,
   "id": "fa5a2a5f",
   "metadata": {},
   "outputs": [],
   "source": [
    "model.save('SentimentAnalysisModel.keras')"
   ]
  },
  {
   "cell_type": "markdown",
   "id": "a10f95ff",
   "metadata": {},
   "source": [
    "## F\n",
    "#### The data given has 2,748 reviews. 80% of them were used to train the model and the other 20% were used to test the model. The network architecture enabled sentiment analysis by capturing contextual word dependencies and reducing overfitting. The network architecture comprises an embedding layer, a flattening layer, a dropout layer, and dense layers. This enables the model to classify reviews as positive or negative sentiment.\n",
    "## G\n",
    "#### I would recommend gathering more data to give more information to the model in the training data in hopes that it would cause the model to score a better accuracy especially in the test accuracy. In gaining more reviews I would assume that it would cause things such as the number of vocabulary to grow which would call for many changes in the model.\n",
    "# Part VI: Reporting\n",
    "## H\n",
    "#### This notebook as a PDF that will be included in my submission.\n",
    "## I\n",
    "#### Web sources for code: \n",
    "#### https://www.tensorflow.org/tutorials/quickstart/beginner\n",
    "#### https://westerngovernorsuniversity.sharepoint.com/:f:/r/sites/DataScienceTeam/Shared%20Documents/Graduate%20Team/D213/Student%20Facing%20Resources?csf=1&web=1&e=j0NEOf\n",
    "## J\n",
    "#### No in-text citations.\n",
    "## K\n",
    "#### The content in this Performance Assessment is set up and presented with the highest professional standards."
   ]
  },
  {
   "cell_type": "code",
   "execution_count": 1,
   "id": "f177104e",
   "metadata": {},
   "outputs": [
    {
     "name": "stderr",
     "output_type": "stream",
     "text": [
      "[NbConvertApp] Converting notebook Christian LeBlanc D213 Task 2 v4.ipynb to webpdf\n",
      "[NbConvertApp] Building PDF\n",
      "[NbConvertApp] PDF successfully created\n",
      "[NbConvertApp] Writing 319956 bytes to Christian LeBlanc D213 Task 2 v4.pdf\n"
     ]
    }
   ],
   "source": [
    "!jupyter nbconvert --to webpdf \"Christian LeBlanc D213 Task 2 v4.ipynb\" --allow-chromium-download"
   ]
  },
  {
   "cell_type": "code",
   "execution_count": null,
   "id": "bb8989a7",
   "metadata": {},
   "outputs": [],
   "source": []
  }
 ],
 "metadata": {
  "kernelspec": {
   "display_name": "Python 3 (ipykernel)",
   "language": "python",
   "name": "python3"
  },
  "language_info": {
   "codemirror_mode": {
    "name": "ipython",
    "version": 3
   },
   "file_extension": ".py",
   "mimetype": "text/x-python",
   "name": "python",
   "nbconvert_exporter": "python",
   "pygments_lexer": "ipython3",
   "version": "3.11.4"
  }
 },
 "nbformat": 4,
 "nbformat_minor": 5
}
